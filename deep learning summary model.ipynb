{
  "cells": [
    {
      "cell_type": "code",
      "source": [
        "from google.colab import drive\n",
        "drive.mount('/content/drive')"
      ],
      "metadata": {
        "colab": {
          "base_uri": "https://localhost:8080/"
        },
        "id": "VU4ZzNfwJXy6",
        "outputId": "0148a5c0-2eb2-4902-a55b-bd310fe9cd16"
      },
      "execution_count": null,
      "outputs": [
        {
          "output_type": "stream",
          "name": "stdout",
          "text": [
            "Mounted at /content/drive\n"
          ]
        }
      ]
    },
    {
      "cell_type": "code",
      "execution_count": null,
      "metadata": {
        "colab": {
          "base_uri": "https://localhost:8080/"
        },
        "id": "9uEb5lTfSirx",
        "outputId": "b9cbd0a3-9fe5-488f-a0dd-7857e4791ce1"
      },
      "outputs": [
        {
          "output_type": "stream",
          "name": "stdout",
          "text": [
            "Requirement already satisfied: transformers in /usr/local/lib/python3.10/dist-packages (4.35.2)\n",
            "Requirement already satisfied: filelock in /usr/local/lib/python3.10/dist-packages (from transformers) (3.13.1)\n",
            "Requirement already satisfied: huggingface-hub<1.0,>=0.16.4 in /usr/local/lib/python3.10/dist-packages (from transformers) (0.19.4)\n",
            "Requirement already satisfied: numpy>=1.17 in /usr/local/lib/python3.10/dist-packages (from transformers) (1.23.5)\n",
            "Requirement already satisfied: packaging>=20.0 in /usr/local/lib/python3.10/dist-packages (from transformers) (23.2)\n",
            "Requirement already satisfied: pyyaml>=5.1 in /usr/local/lib/python3.10/dist-packages (from transformers) (6.0.1)\n",
            "Requirement already satisfied: regex!=2019.12.17 in /usr/local/lib/python3.10/dist-packages (from transformers) (2023.6.3)\n",
            "Requirement already satisfied: requests in /usr/local/lib/python3.10/dist-packages (from transformers) (2.31.0)\n",
            "Requirement already satisfied: tokenizers<0.19,>=0.14 in /usr/local/lib/python3.10/dist-packages (from transformers) (0.15.0)\n",
            "Requirement already satisfied: safetensors>=0.3.1 in /usr/local/lib/python3.10/dist-packages (from transformers) (0.4.0)\n",
            "Requirement already satisfied: tqdm>=4.27 in /usr/local/lib/python3.10/dist-packages (from transformers) (4.66.1)\n",
            "Requirement already satisfied: fsspec>=2023.5.0 in /usr/local/lib/python3.10/dist-packages (from huggingface-hub<1.0,>=0.16.4->transformers) (2023.6.0)\n",
            "Requirement already satisfied: typing-extensions>=3.7.4.3 in /usr/local/lib/python3.10/dist-packages (from huggingface-hub<1.0,>=0.16.4->transformers) (4.5.0)\n",
            "Requirement already satisfied: charset-normalizer<4,>=2 in /usr/local/lib/python3.10/dist-packages (from requests->transformers) (3.3.2)\n",
            "Requirement already satisfied: idna<4,>=2.5 in /usr/local/lib/python3.10/dist-packages (from requests->transformers) (3.4)\n",
            "Requirement already satisfied: urllib3<3,>=1.21.1 in /usr/local/lib/python3.10/dist-packages (from requests->transformers) (2.0.7)\n",
            "Requirement already satisfied: certifi>=2017.4.17 in /usr/local/lib/python3.10/dist-packages (from requests->transformers) (2023.7.22)\n"
          ]
        }
      ],
      "source": [
        "!pip install transformers"
      ]
    },
    {
      "cell_type": "code",
      "execution_count": null,
      "metadata": {
        "colab": {
          "base_uri": "https://localhost:8080/"
        },
        "id": "DTy6q314ItMa",
        "outputId": "bd53ddb4-9456-4867-e3fe-8e7b9be3ddd3"
      },
      "outputs": [
        {
          "output_type": "stream",
          "name": "stdout",
          "text": [
            "Collecting sentencepiece\n",
            "  Downloading sentencepiece-0.1.99-cp310-cp310-manylinux_2_17_x86_64.manylinux2014_x86_64.whl (1.3 MB)\n",
            "\u001b[?25l     \u001b[90m━━━━━━━━━━━━━━━━━━━━━━━━━━━━━━━━━━━━━━━━\u001b[0m \u001b[32m0.0/1.3 MB\u001b[0m \u001b[31m?\u001b[0m eta \u001b[36m-:--:--\u001b[0m\r\u001b[2K     \u001b[91m━━━━━━━━━━━━━━━━━━━\u001b[0m\u001b[90m╺\u001b[0m\u001b[90m━━━━━━━━━━━━━━━━━━━━\u001b[0m \u001b[32m0.6/1.3 MB\u001b[0m \u001b[31m18.5 MB/s\u001b[0m eta \u001b[36m0:00:01\u001b[0m\r\u001b[2K     \u001b[90m━━━━━━━━━━━━━━━━━━━━━━━━━━━━━━━━━━━━━━━━\u001b[0m \u001b[32m1.3/1.3 MB\u001b[0m \u001b[31m25.3 MB/s\u001b[0m eta \u001b[36m0:00:00\u001b[0m\n",
            "\u001b[?25hInstalling collected packages: sentencepiece\n",
            "Successfully installed sentencepiece-0.1.99\n"
          ]
        }
      ],
      "source": [
        "!pip install sentencepiece"
      ]
    },
    {
      "cell_type": "code",
      "execution_count": null,
      "metadata": {
        "colab": {
          "base_uri": "https://localhost:8080/"
        },
        "id": "cBVqdt8i2G78",
        "outputId": "0be870ae-44eb-4644-d574-ea172e7345f4"
      },
      "outputs": [
        {
          "output_type": "stream",
          "name": "stderr",
          "text": [
            "Some weights of PegasusForConditionalGeneration were not initialized from the model checkpoint at google/pegasus-large and are newly initialized: ['model.decoder.embed_positions.weight', 'model.encoder.embed_positions.weight']\n",
            "You should probably TRAIN this model on a down-stream task to be able to use it for predictions and inference.\n"
          ]
        }
      ],
      "source": [
        "from transformers import PegasusForConditionalGeneration, PegasusTokenizer\n",
        "\n",
        "# Load the Pegasus model and tokenizer\n",
        "model_name = 'google/pegasus-large'\n",
        "pegasus_tokenizer = PegasusTokenizer.from_pretrained(model_name)\n",
        "model_transformers = PegasusForConditionalGeneration.from_pretrained(model_name)"
      ]
    },
    {
      "cell_type": "code",
      "execution_count": null,
      "metadata": {
        "id": "_R6VLu3vyIYe"
      },
      "outputs": [],
      "source": [
        "import torch\n",
        "import torch.nn as nn\n",
        "import torch.nn.functional as F\n",
        "import torch.optim as optim\n",
        "import numpy as np\n",
        "from sklearn.model_selection import train_test_split\n",
        "from torch.utils.data import DataLoader, TensorDataset\n",
        "from keras.preprocessing.text import Tokenizer\n",
        "from keras.preprocessing.sequence import pad_sequences\n",
        "import pandas as pd"
      ]
    },
    {
      "cell_type": "code",
      "execution_count": null,
      "metadata": {
        "id": "Mq47SBl4yLIN"
      },
      "outputs": [],
      "source": [
        "df = pd.read_csv('/content/drive/MyDrive/articles/political_data_1.csv')  # Replace with the actual path of CSV file\n",
        "summaries = df[['political party', 'header', 'content']].values.tolist()\n",
        "labels = df['political party'].tolist()  # actual column name"
      ]
    },
    {
      "cell_type": "code",
      "execution_count": null,
      "metadata": {
        "id": "SyWWMNl21XJo"
      },
      "outputs": [],
      "source": [
        "df['summary'] = df['political party'] + \" \" + df['header'] + \" \" + df['content']"
      ]
    },
    {
      "cell_type": "code",
      "execution_count": null,
      "metadata": {
        "id": "ItsFeIEA1gX4"
      },
      "outputs": [],
      "source": [
        "df['content'] = df['content'].fillna('')  # Replace NaN values with empty strings\n",
        "summaries = df['content'].tolist()\n",
        "\n",
        "max_seq_length = 100  # Define the maximum sequence length\n",
        "tokenizer = Tokenizer()\n",
        "tokenizer.fit_on_texts(summaries)\n",
        "sequences = tokenizer.texts_to_sequences(summaries)\n",
        "X = pad_sequences(sequences, maxlen=max_seq_length)"
      ]
    },
    {
      "cell_type": "code",
      "execution_count": null,
      "metadata": {
        "id": "PqdaGSzj3B6f"
      },
      "outputs": [],
      "source": [
        "label_to_index = {\"Left\": 0, \"Right\": 1, \"Center\": 2}  # Define label-to-index mapping\n",
        "y = [label_to_index[label] for label in labels]"
      ]
    },
    {
      "cell_type": "code",
      "execution_count": null,
      "metadata": {
        "id": "cSxzv8GhyTBt"
      },
      "outputs": [],
      "source": [
        "X_train, X_test, y_train, y_test = train_test_split(X, y, test_size=0.2, random_state=42)"
      ]
    },
    {
      "cell_type": "code",
      "execution_count": null,
      "metadata": {
        "id": "IFcH9PZ-yVkt"
      },
      "outputs": [],
      "source": [
        "X_train_tensor = torch.tensor(X_train, dtype=torch.long)\n",
        "y_train_tensor = torch.tensor(y_train, dtype=torch.long)\n",
        "X_test_tensor = torch.tensor(X_test, dtype=torch.long)\n",
        "y_test_tensor = torch.tensor(y_test, dtype=torch.long)\n"
      ]
    },
    {
      "cell_type": "code",
      "execution_count": null,
      "metadata": {
        "id": "LMfxMq8eyf_v"
      },
      "outputs": [],
      "source": [
        "train_dataset = TensorDataset(X_train_tensor, y_train_tensor)\n",
        "train_loader = DataLoader(train_dataset, batch_size=64, shuffle=True)\n",
        "\n",
        "test_dataset = TensorDataset(X_test_tensor, y_test_tensor)\n",
        "test_loader = DataLoader(test_dataset, batch_size=64, shuffle=True)"
      ]
    },
    {
      "cell_type": "code",
      "source": [
        "import torch\n",
        "import torch.nn as nn\n",
        "import torch.nn.functional as F\n",
        "import torch.optim as optim\n",
        "\n",
        "class PoliticalAffiliationCNN(nn.Module):\n",
        "    def __init__(self, vocab_size, embedding_dim, num_classes, filter_sizes, num_filters, dropout_prob):\n",
        "        super(PoliticalAffiliationCNN, self).__init__()\n",
        "\n",
        "        # Embedding layer\n",
        "        self.embedding = nn.Embedding(vocab_size, embedding_dim)\n",
        "\n",
        "        # Convolutional layers\n",
        "        self.conv_layers = nn.ModuleList([\n",
        "            nn.Conv2d(1, num_filters, (fs, embedding_dim)) for fs in filter_sizes\n",
        "        ])\n",
        "\n",
        "        # Fully connected layer\n",
        "        self.fc = nn.Linear(num_filters * len(filter_sizes), num_classes)\n",
        "\n",
        "        # Dropout layer\n",
        "        self.dropout = nn.Dropout(dropout_prob)\n",
        "\n",
        "    def forward(self, x):\n",
        "        # Embedding layer\n",
        "        embedded = self.embedding(x)\n",
        "        embedded = embedded.unsqueeze(1)  # Add channel dimension\n",
        "\n",
        "        # Convolutional layers with ReLU activation and max pooling\n",
        "        conved = [F.relu(conv(embedded)).squeeze(3) for conv in self.conv_layers]\n",
        "\n",
        "        # Max pooling over time\n",
        "        pooled = [F.max_pool1d(conv, conv.size(2)).squeeze(2) for conv in conved]\n",
        "\n",
        "        # Concatenate the pooled features\n",
        "        cat = torch.cat(pooled, dim=1)\n",
        "\n",
        "        # Dropout\n",
        "        cat = self.dropout(cat)\n",
        "\n",
        "        # Fully connected layer\n",
        "        logits = self.fc(cat)\n",
        "\n",
        "        return F.softmax(logits, dim=1)\n",
        "\n",
        "# Example usage\n",
        "vocab_size = len(tokenizer.word_index) + 1  # vocabulary size\n",
        "embedding_dim = 100  #  embedding dimension\n",
        "num_classes = 3  # Number of political affiliations\n",
        "filter_sizes = [3, 4, 5]  # Specify filter sizes for the convolutional layers\n",
        "num_filters = 100  # Number of filters for each filter size\n",
        "dropout_prob = 0.5  # Dropout probability\n",
        "\n",
        "# Create an instance of the PoliticalAffiliationCNN model\n",
        "model = PoliticalAffiliationCNN(vocab_size, embedding_dim, num_classes, filter_sizes, num_filters, dropout_prob)\n",
        "\n",
        "# Define your loss function and optimizer\n",
        "criterion = nn.CrossEntropyLoss()\n",
        "optimizer = optim.Adam(model.parameters(), lr=0.001)\n",
        "\n",
        "# Train your model (loop through your dataloader and optimize)\n",
        "num_epochs = 200  # You can adjust the number of epochs here\n",
        "for epoch in range(num_epochs):\n",
        "    for data in train_loader:\n",
        "        inputs, labels = data\n",
        "        optimizer.zero_grad()\n",
        "        outputs = model(inputs)\n",
        "        loss = criterion(outputs, labels)\n",
        "        loss.backward()\n",
        "        optimizer.step()\n",
        "\n",
        "# Save the trained model\n",
        "model_filepath = '/content/drive/MyDrive/articles/trained_model/trained_model_5'\n",
        "state_filepath = '/content/drive/MyDrive/articles/trained_model/trained_state_dict_5'\n",
        "torch.save(model, model_filepath)\n",
        "torch.save(model.state_dict(), state_filepath)\n",
        "\n",
        "# Print out final outputs for a test set\n",
        "model.eval()  # Set the model to evaluation mode\n",
        "with torch.no_grad():\n",
        "    all_predicted_classes = []\n",
        "    all_true_classes = []\n",
        "\n",
        "    for test_data in test_loader:\n",
        "        test_inputs, test_labels = test_data\n",
        "        test_outputs = model(test_inputs)\n",
        "        _, predicted_classes = torch.max(test_outputs, 1)\n",
        "        print(\"Predicted Probabilities:\", test_outputs)\n",
        "        print(\"Predicted Classes:\", predicted_classes)\n",
        "        print(\"Actual Classes:\", test_labels)\n",
        "\n",
        "        all_predicted_classes.extend(predicted_classes.numpy())\n",
        "        all_true_classes.extend(test_labels.numpy())\n",
        "\n",
        "accuracy = (np.array(all_predicted_classes) == np.array(all_true_classes)).sum().item() / np.array(all_true_classes).shape[0]\n",
        "print(\"Test Accuracy:\", accuracy)"
      ],
      "metadata": {
        "colab": {
          "base_uri": "https://localhost:8080/"
        },
        "id": "PqfosDwx3pq2",
        "outputId": "82eebd04-4c18-4c00-f6a1-c2910d93b07e"
      },
      "execution_count": null,
      "outputs": [
        {
          "output_type": "stream",
          "name": "stdout",
          "text": [
            "Predicted Probabilities: tensor([[4.5547e-01, 9.9721e-02, 4.4481e-01],\n",
            "        [1.6435e-01, 2.2046e-01, 6.1520e-01],\n",
            "        [1.0000e+00, 1.8380e-07, 2.9298e-07],\n",
            "        [1.0000e+00, 4.6503e-09, 6.3895e-10],\n",
            "        [8.9363e-13, 6.6842e-10, 1.0000e+00],\n",
            "        [1.8237e-01, 2.9660e-01, 5.2103e-01],\n",
            "        [8.1641e-02, 8.5565e-01, 6.2705e-02],\n",
            "        [3.3295e-04, 9.9052e-01, 9.1462e-03],\n",
            "        [6.8736e-13, 6.0781e-10, 1.0000e+00],\n",
            "        [1.0000e+00, 5.5888e-09, 1.8523e-08],\n",
            "        [6.5917e-03, 9.8689e-01, 6.5168e-03],\n",
            "        [1.5739e-02, 9.6035e-01, 2.3915e-02],\n",
            "        [1.5841e-09, 1.0000e+00, 2.9444e-10],\n",
            "        [3.0338e-01, 6.1832e-01, 7.8306e-02],\n",
            "        [3.9561e-06, 9.9999e-01, 5.0739e-06],\n",
            "        [9.7977e-01, 1.8510e-02, 1.7157e-03],\n",
            "        [9.8432e-02, 4.8654e-01, 4.1503e-01],\n",
            "        [8.0360e-01, 9.4359e-02, 1.0204e-01],\n",
            "        [9.6874e-01, 1.4554e-02, 1.6708e-02],\n",
            "        [6.4051e-08, 1.0000e+00, 2.8437e-07],\n",
            "        [1.0160e-07, 1.0000e+00, 1.1107e-07],\n",
            "        [8.5417e-01, 1.1989e-01, 2.5946e-02],\n",
            "        [4.1248e-02, 9.4575e-01, 1.3004e-02],\n",
            "        [7.2747e-10, 4.4117e-09, 1.0000e+00],\n",
            "        [3.9408e-12, 1.4148e-09, 1.0000e+00],\n",
            "        [6.4763e-01, 8.6117e-02, 2.6625e-01],\n",
            "        [1.0000e+00, 5.5888e-09, 1.8523e-08],\n",
            "        [6.3032e-05, 1.9602e-05, 9.9992e-01],\n",
            "        [5.4988e-01, 2.9424e-01, 1.5588e-01],\n",
            "        [2.5310e-01, 1.2008e-01, 6.2683e-01],\n",
            "        [1.0000e+00, 2.2804e-07, 2.8510e-07],\n",
            "        [4.1031e-01, 2.8212e-01, 3.0757e-01],\n",
            "        [7.2786e-05, 2.5636e-05, 9.9990e-01],\n",
            "        [7.9542e-02, 2.5342e-01, 6.6704e-01],\n",
            "        [1.0000e+00, 5.5888e-09, 1.8523e-08],\n",
            "        [9.7498e-01, 2.1846e-02, 3.1694e-03],\n",
            "        [3.3303e-01, 6.3848e-01, 2.8490e-02],\n",
            "        [5.1778e-01, 4.4353e-01, 3.8693e-02],\n",
            "        [1.2781e-01, 3.6139e-01, 5.1080e-01],\n",
            "        [1.0000e+00, 5.5888e-09, 1.8523e-08],\n",
            "        [2.0103e-01, 3.5319e-01, 4.4578e-01],\n",
            "        [4.2367e-11, 1.0000e+00, 4.0332e-09],\n",
            "        [4.8405e-05, 1.3423e-04, 9.9982e-01],\n",
            "        [9.8529e-02, 8.7451e-01, 2.6961e-02],\n",
            "        [7.1324e-04, 9.9824e-01, 1.0438e-03],\n",
            "        [8.0930e-04, 9.9024e-01, 8.9540e-03],\n",
            "        [2.1165e-01, 5.0731e-01, 2.8104e-01],\n",
            "        [9.0584e-01, 7.3060e-02, 2.1096e-02],\n",
            "        [1.7705e-11, 4.9762e-09, 1.0000e+00],\n",
            "        [2.0092e-04, 2.0409e-05, 9.9978e-01],\n",
            "        [1.0000e+00, 1.9693e-08, 4.2586e-09],\n",
            "        [4.1508e-07, 1.0000e+00, 2.5076e-07],\n",
            "        [4.6036e-01, 4.4262e-01, 9.7014e-02],\n",
            "        [4.5444e-05, 1.7845e-05, 9.9994e-01],\n",
            "        [1.0000e+00, 5.5888e-09, 1.8523e-08],\n",
            "        [3.9408e-12, 1.4148e-09, 1.0000e+00],\n",
            "        [7.8845e-02, 8.8302e-01, 3.8132e-02],\n",
            "        [2.5825e-01, 6.0125e-01, 1.4049e-01],\n",
            "        [1.0533e-02, 1.8267e-02, 9.7120e-01],\n",
            "        [1.5215e-01, 6.3801e-01, 2.0985e-01]])\n",
            "Predicted Classes: tensor([0, 2, 0, 0, 2, 2, 1, 1, 2, 0, 1, 1, 1, 1, 1, 0, 1, 0, 0, 1, 1, 0, 1, 2,\n",
            "        2, 0, 0, 2, 0, 2, 0, 0, 2, 2, 0, 0, 1, 0, 2, 0, 2, 1, 2, 1, 1, 1, 1, 0,\n",
            "        2, 2, 0, 1, 0, 2, 0, 2, 1, 1, 2, 1])\n",
            "Actual Classes: tensor([1, 2, 0, 0, 2, 0, 1, 1, 2, 0, 1, 1, 1, 0, 1, 0, 0, 1, 0, 1, 1, 0, 0, 2,\n",
            "        2, 0, 0, 2, 0, 2, 0, 1, 2, 0, 0, 1, 1, 0, 2, 0, 1, 1, 2, 1, 1, 1, 0, 0,\n",
            "        2, 2, 0, 1, 1, 2, 0, 2, 1, 2, 2, 1])\n",
            "Test Accuracy: 0.7833333333333333\n"
          ]
        }
      ]
    },
    {
      "cell_type": "code",
      "execution_count": null,
      "metadata": {
        "id": "01dlZDdc38p-"
      },
      "outputs": [],
      "source": [
        "#Define the Keras tokenizer\n",
        "keras_tokenizer = Tokenizer()\n",
        "keras_tokenizer.fit_on_texts(summaries)"
      ]
    },
    {
      "cell_type": "code",
      "execution_count": null,
      "metadata": {
        "colab": {
          "base_uri": "https://localhost:8080/"
        },
        "id": "4rXsPBS3MqjF",
        "outputId": "2de95112-2924-409e-eb5a-dc633473d23e"
      },
      "outputs": [
        {
          "output_type": "stream",
          "name": "stdout",
          "text": [
            "[(tensor([[1.0000e+00, 2.8829e-07, 5.6316e-07]]), 0), (tensor([[0.2200, 0.2685, 0.5115]]), 2), (tensor([[0.3777, 0.4262, 0.1961]]), 1)]\n"
          ]
        }
      ],
      "source": [
        "max_length = 1024   # Define the maximum length for both articles and summaries\n",
        "\n",
        "# Define a function to classify a new article\n",
        "def classify_article(article):\n",
        "    loaded_model = torch.load('/content/drive/MyDrive/articles/trained_model/trained_model_3')\n",
        "    loaded_model.load_state_dict(torch.load('/content/drive/MyDrive/articles/trained_model/trained_state_dict_3'))\n",
        "    loaded_model.eval()\n",
        "    sequence = keras_tokenizer.texts_to_sequences([article])  # Use Keras tokenizer\n",
        "    X_new = pad_sequences(sequence, maxlen=100)\n",
        "    X_new_tensor = torch.tensor(X_new, dtype=torch.long)\n",
        "    with torch.no_grad():\n",
        "        outputs = loaded_model(X_new_tensor)\n",
        "        _, predicted = torch.max(outputs, 1)\n",
        "    return outputs, predicted.item()\n",
        "\n",
        "# Define a function to summarize an article\n",
        "def summarize_article(article, model_transformers):\n",
        "    inputs = pegasus_tokenizer.encode(article, return_tensors='pt', truncation=True, max_length=max_length)\n",
        "    summary_ids = model_transformers.generate(inputs, max_length=max_length, num_beams=5, early_stopping=True)\n",
        "    summary = pegasus_tokenizer.decode(summary_ids[0], skip_special_tokens=True)\n",
        "    return summary\n",
        "\n",
        "# Load your external articles\n",
        "df_new_articles = pd.read_csv('/content/drive/MyDrive/articles/new_articles/articles-2.csv')\n",
        "articles = df_new_articles['content'].tolist()\n",
        "\n",
        "# Classify each article\n",
        "classifications = [classify_article(article) for article in articles]\n",
        "print(classifications)\n"
      ]
    },
    {
      "cell_type": "code",
      "source": [
        "articles_combined = \" \".join(articles)\n",
        "summary = summarize_article(articles_combined, model_transformers)"
      ],
      "metadata": {
        "id": "YmG3QJzOLMCz"
      },
      "execution_count": null,
      "outputs": []
    },
    {
      "cell_type": "code",
      "source": [
        "print(type(summary))"
      ],
      "metadata": {
        "colab": {
          "base_uri": "https://localhost:8080/"
        },
        "id": "yv77fDmxMWNY",
        "outputId": "fc7e80d8-8615-4396-b654-bc2e04452cbb"
      },
      "execution_count": null,
      "outputs": [
        {
          "output_type": "stream",
          "name": "stdout",
          "text": [
            "<class 'str'>\n"
          ]
        }
      ]
    },
    {
      "cell_type": "code",
      "source": [
        "\n",
        "\n",
        "# Specify the file path\n",
        "file_path = \"output.txt\"\n",
        "\n",
        "# Open the file in write mode\n",
        "with open(file_path, \"w\") as file:\n",
        "    # Write the string to the file\n",
        "    file.write(summary)\n",
        "\n",
        "print(f\"String saved to {file_path}\")\n"
      ],
      "metadata": {
        "colab": {
          "base_uri": "https://localhost:8080/"
        },
        "id": "4qKWTbi2cKX_",
        "outputId": "4721d49e-f711-4c44-8e26-5616476d5ef8"
      },
      "execution_count": null,
      "outputs": [
        {
          "output_type": "stream",
          "name": "stdout",
          "text": [
            "String saved to output.txt\n"
          ]
        }
      ]
    },
    {
      "cell_type": "code",
      "source": [
        "print(classify_article(summary))"
      ],
      "metadata": {
        "colab": {
          "base_uri": "https://localhost:8080/"
        },
        "id": "G0lOyUxKMcXx",
        "outputId": "88216623-e2d6-43f9-f966-5fa71f812668"
      },
      "execution_count": null,
      "outputs": [
        {
          "output_type": "stream",
          "name": "stdout",
          "text": [
            "(tensor([[0.5033, 0.1737, 0.3229]]), 0)\n"
          ]
        }
      ]
    },
    {
      "cell_type": "code",
      "source": [
        "loaded_model = torch.load('/content/drive/MyDrive/articles/trained_model/trained_model_3')\n",
        "loaded_model.load_state_dict(torch.load('/content/drive/MyDrive/articles/trained_model/trained_state_dict_3'))\n",
        "model.eval()  # Set the model to evaluation mode\n",
        "with torch.no_grad():\n",
        "    all_predicted_classes = []\n",
        "    all_true_classes = []\n",
        "    # Assuming test_loader is your DataLoader for the test set\n",
        "    for test_data in test_loader:\n",
        "        test_inputs, test_labels = test_data\n",
        "        test_outputs = loaded_model(test_inputs)\n",
        "        _, predicted_classes = torch.max(test_outputs, 1)\n",
        "        print(\"Predicted Probabilities:\", test_outputs)\n",
        "        print(\"Predicted Classes:\", predicted_classes)\n",
        "        print(\"Actual Classes:\", test_labels)\n",
        "\n",
        "        all_predicted_classes.extend(predicted_classes.numpy())\n",
        "        all_true_classes.extend(test_labels.numpy())\n",
        "\n",
        "accuracy = (np.array(all_predicted_classes) == np.array(all_true_classes)).sum().item() / np.array(all_true_classes).shape[0]\n",
        "print(\"Test Accuracy:\", accuracy)"
      ],
      "metadata": {
        "colab": {
          "base_uri": "https://localhost:8080/"
        },
        "id": "lKaLm17LNMC4",
        "outputId": "35070c5e-61c0-4e3c-cae9-c30797adc665"
      },
      "execution_count": null,
      "outputs": [
        {
          "output_type": "stream",
          "name": "stdout",
          "text": [
            "Predicted Probabilities: tensor([[9.6321e-01, 9.2107e-03, 2.7575e-02],\n",
            "        [2.8793e-08, 1.3262e-07, 1.0000e+00],\n",
            "        [1.3096e-01, 3.9653e-02, 8.2939e-01],\n",
            "        [1.7244e-02, 4.6503e-02, 9.3625e-01],\n",
            "        [1.0000e+00, 1.6429e-07, 5.5911e-07],\n",
            "        [2.7415e-01, 6.4226e-01, 8.3588e-02],\n",
            "        [3.6455e-01, 1.7751e-01, 4.5794e-01],\n",
            "        [4.8929e-03, 2.1796e-01, 7.7715e-01],\n",
            "        [5.9306e-01, 4.0539e-01, 1.5597e-03],\n",
            "        [4.5348e-02, 7.6116e-03, 9.4704e-01],\n",
            "        [9.9976e-01, 1.7915e-04, 6.1172e-05],\n",
            "        [2.7256e-01, 6.5970e-01, 6.7741e-02],\n",
            "        [3.6787e-01, 5.9417e-01, 3.7957e-02],\n",
            "        [8.6087e-03, 1.5683e-02, 9.7571e-01],\n",
            "        [2.7688e-03, 9.9712e-01, 1.1400e-04],\n",
            "        [5.8780e-04, 1.1920e-04, 9.9929e-01],\n",
            "        [9.9996e-01, 3.5735e-05, 1.9871e-06],\n",
            "        [1.9802e-04, 9.9980e-01, 5.6791e-06],\n",
            "        [1.2442e-04, 2.1072e-02, 9.7880e-01],\n",
            "        [6.8558e-01, 2.6585e-01, 4.8568e-02],\n",
            "        [1.2189e-01, 8.7632e-01, 1.7833e-03],\n",
            "        [2.4736e-02, 1.4969e-03, 9.7377e-01],\n",
            "        [3.2337e-01, 2.4293e-01, 4.3370e-01],\n",
            "        [9.9997e-01, 2.9570e-07, 3.0501e-05],\n",
            "        [1.5369e-06, 2.5343e-05, 9.9997e-01],\n",
            "        [1.0134e-01, 7.9614e-01, 1.0252e-01],\n",
            "        [1.2203e-09, 4.5226e-07, 1.0000e+00],\n",
            "        [3.5007e-04, 9.6786e-01, 3.1792e-02],\n",
            "        [1.3402e-01, 3.4711e-02, 8.3126e-01],\n",
            "        [9.7646e-01, 4.5508e-03, 1.8989e-02],\n",
            "        [5.5672e-01, 4.1242e-01, 3.0856e-02],\n",
            "        [4.8268e-01, 1.0869e-01, 4.0863e-01],\n",
            "        [1.3979e-08, 1.0000e+00, 2.1301e-08],\n",
            "        [1.0000e+00, 9.1566e-09, 1.3731e-07],\n",
            "        [8.1822e-02, 7.0200e-01, 2.1618e-01],\n",
            "        [6.5959e-02, 7.2187e-01, 2.1217e-01],\n",
            "        [1.7940e-01, 4.0577e-01, 4.1483e-01],\n",
            "        [8.0952e-02, 5.2882e-01, 3.9023e-01],\n",
            "        [4.4843e-05, 9.9995e-01, 1.8632e-06],\n",
            "        [1.4467e-01, 5.7127e-01, 2.8406e-01],\n",
            "        [1.0157e-01, 4.0909e-01, 4.8934e-01],\n",
            "        [1.9906e-05, 5.0486e-04, 9.9948e-01],\n",
            "        [1.1265e-01, 1.5095e-01, 7.3640e-01],\n",
            "        [6.2601e-01, 3.4123e-01, 3.2754e-02],\n",
            "        [9.9999e-01, 3.7711e-08, 7.4603e-06],\n",
            "        [5.0910e-01, 4.6917e-01, 2.1724e-02],\n",
            "        [4.4678e-05, 9.9996e-01, 1.9351e-07],\n",
            "        [2.0562e-01, 1.4530e-01, 6.4908e-01],\n",
            "        [7.8127e-10, 7.5274e-08, 1.0000e+00],\n",
            "        [1.0000e+00, 1.6430e-06, 2.4694e-07],\n",
            "        [1.0835e-04, 9.9729e-01, 2.6024e-03],\n",
            "        [6.5784e-03, 9.8530e-01, 8.1214e-03],\n",
            "        [5.0143e-01, 4.9586e-01, 2.7083e-03],\n",
            "        [1.0000e+00, 7.9553e-08, 3.2931e-08],\n",
            "        [2.5339e-08, 4.5881e-07, 1.0000e+00],\n",
            "        [7.0394e-01, 7.9761e-03, 2.8808e-01],\n",
            "        [5.8592e-01, 2.5696e-01, 1.5711e-01],\n",
            "        [1.0783e-03, 9.9881e-01, 1.1467e-04],\n",
            "        [1.6149e-02, 9.8319e-01, 6.6487e-04],\n",
            "        [9.9999e-01, 9.3658e-06, 1.6234e-06]])\n",
            "Predicted Classes: tensor([0, 2, 2, 2, 0, 1, 2, 2, 0, 2, 0, 1, 1, 2, 1, 2, 0, 1, 2, 0, 1, 2, 2, 0,\n",
            "        2, 1, 2, 1, 2, 0, 0, 0, 1, 0, 1, 1, 2, 1, 1, 1, 2, 2, 2, 0, 0, 0, 1, 2,\n",
            "        2, 0, 1, 1, 0, 0, 2, 0, 0, 1, 1, 0])\n",
            "Actual Classes: tensor([0, 2, 0, 2, 0, 2, 1, 1, 0, 1, 0, 1, 0, 1, 1, 2, 0, 1, 2, 0, 0, 2, 0, 0,\n",
            "        2, 2, 2, 1, 2, 0, 2, 0, 1, 0, 1, 1, 2, 1, 1, 0, 1, 2, 0, 0, 0, 0, 1, 1,\n",
            "        2, 0, 1, 1, 2, 0, 2, 1, 1, 1, 1, 0])\n",
            "Test Accuracy: 0.7\n"
          ]
        }
      ]
    },
    {
      "cell_type": "code",
      "source": [
        "import nltk\n",
        "nltk.download('punkt')\n",
        "nltk.download('averaged_perceptron_tagger')\n",
        "nltk.download('maxent_ne_chunker')\n",
        "nltk.download('words')"
      ],
      "metadata": {
        "colab": {
          "base_uri": "https://localhost:8080/"
        },
        "id": "5HxbnR57SEGM",
        "outputId": "1c782b09-f1a5-466c-cbe5-4432a102290e"
      },
      "execution_count": null,
      "outputs": [
        {
          "output_type": "stream",
          "name": "stderr",
          "text": [
            "[nltk_data] Downloading package punkt to /root/nltk_data...\n",
            "[nltk_data]   Package punkt is already up-to-date!\n",
            "[nltk_data] Downloading package averaged_perceptron_tagger to\n",
            "[nltk_data]     /root/nltk_data...\n",
            "[nltk_data]   Package averaged_perceptron_tagger is already up-to-\n",
            "[nltk_data]       date!\n",
            "[nltk_data] Downloading package maxent_ne_chunker to\n",
            "[nltk_data]     /root/nltk_data...\n",
            "[nltk_data]   Package maxent_ne_chunker is already up-to-date!\n",
            "[nltk_data] Downloading package words to /root/nltk_data...\n",
            "[nltk_data]   Unzipping corpora/words.zip.\n"
          ]
        },
        {
          "output_type": "execute_result",
          "data": {
            "text/plain": [
              "True"
            ]
          },
          "metadata": {},
          "execution_count": 48
        }
      ]
    },
    {
      "cell_type": "code",
      "source": [
        "from collections import Counter\n",
        "from nltk import word_tokenize, pos_tag, ne_chunk\n",
        "\n",
        "def extract_entities(text):\n",
        "    # Use NLTK for named entity recognition (NER)\n",
        "    tree = ne_chunk(pos_tag(word_tokenize(text)))\n",
        "    entities = [chunk for chunk in tree if isinstance(chunk, tuple)]\n",
        "    return entities\n",
        "\n",
        "# Example usage\n",
        "input_articles = articles\n",
        "generated_summary = summary\n",
        "\n",
        "# Extract entities from input articles and summary\n",
        "input_entities = [entity for article in input_articles for entity in extract_entities(article)]\n",
        "summary_entities = extract_entities(generated_summary)\n",
        "\n",
        "# Calculate entity distribution\n",
        "input_entity_distribution = Counter(input_entities)\n",
        "summary_entity_distribution = Counter(summary_entities)\n",
        "\n",
        "# Print entity distributions\n",
        "print(\"Entity Distribution in Input Articles:\", input_entity_distribution)\n",
        "print(\"Entity Distribution in Generated Summary:\", summary_entity_distribution)\n"
      ],
      "metadata": {
        "colab": {
          "base_uri": "https://localhost:8080/"
        },
        "id": "XGRCRZuLR1_f",
        "outputId": "de49acd1-ada2-4c3d-fa00-438b3bd89eb0"
      },
      "execution_count": null,
      "outputs": [
        {
          "output_type": "stream",
          "name": "stdout",
          "text": [
            "Entity Distribution in Input Articles: Counter({(',', ','): 90, ('the', 'DT'): 80, ('.', '.'): 72, ('and', 'CC'): 53, ('a', 'DT'): 46, ('of', 'IN'): 42, ('to', 'TO'): 39, ('’', 'NNP'): 33, ('in', 'IN'): 30, ('on', 'IN'): 28, ('his', 'PRP$'): 23, ('for', 'IN'): 22, ('is', 'VBZ'): 22, ('order', 'NN'): 17, ('The', 'DT'): 17, ('s', 'NN'): 15, ('case', 'NN'): 14, ('has', 'VBZ'): 14, ('”', 'NNP'): 14, ('are', 'VBP'): 14, ('as', 'IN'): 13, ('judge', 'NN'): 12, ('post', 'NN'): 12, ('with', 'IN'): 12, ('fraud', 'NN'): 11, ('about', 'IN'): 11, ('said', 'VBD'): 11, ('trial', 'NN'): 11, ('that', 'IN'): 11, ('by', 'IN'): 11, ('we', 'PRP'): 11, ('business', 'NN'): 10, ('everyone', 'NN'): 10, ('not', 'RB'): 10, ('Tuesday', 'NNP'): 9, ('court', 'NN'): 9, ('“', 'JJ'): 9, ('gag', 'NN'): 8, ('after', 'IN'): 8, ('my', 'PRP$'): 8, ('staff', 'NN'): 8, ('s', 'VBD'): 8, ('this', 'DT'): 8, ('against', 'IN'): 8, ('$', '$'): 8, ('former', 'JJ'): 8, ('“', 'VB'): 7, ('(', '('): 7, (')', ')'): 7, ('but', 'CC'): 7, ('was', 'VBD'): 7, ('any', 'DT'): 7, ('president', 'NN'): 7, ('our', 'PRP$'): 7, ('have', 'VBP'): 7, ('s', 'JJ'): 7, ('one', 'CD'): 6, ('posted', 'VBD'): 6, ('media', 'NNS'): 6, ('day', 'NN'): 6, ('him', 'PRP'): 6, ('will', 'MD'): 6, ('”', 'NN'): 6, ('“', 'NNP'): 6, ('gag', 'JJ'): 6, ('news', 'NN'): 6, ('you', 'PRP'): 6, ('real', 'JJ'): 6, ('civil', 'JJ'): 5, ('her', 'PRP$'): 5, ('This', 'DT'): 5, ('social', 'JJ'): 5, ('clerk', 'NN'): 5, ('he', 'PRP'): 5, ('had', 'VBD'): 5, ('it', 'PRP'): 5, ('I', 'PRP'): 5, ('or', 'CC'): 5, ('Attorney', 'NNP'): 5, ('that', 'WDT'): 5, ('company', 'NN'): 5, ('attorneys', 'NNS'): 5, ('publicly', 'RB'): 4, ('photo', 'NN'): 4, ('morning', 'NN'): 4, ('Judge', 'NNP'): 4, ('second', 'JJ'): 4, ('s', 'VBZ'): 4, ('at', 'IN'): 4, ('running', 'VBG'): 4, ('should', 'MD'): 4, ('be', 'VB'): 4, ('members', 'NNS'): 4, ('parties', 'NNS'): 4, ('General', 'NNP'): 4, ('who', 'WP'): 4, ('more', 'RBR'): 4, ('journalism', 'NN'): 4, ('can', 'MD'): 4, ('expensive', 'JJ'): 4, ('why', 'WRB'): 4, ('your', 'PRP$'): 4, ('keep', 'VB'): 4, ('free', 'JJ'): 4, ('us', 'PRP'): 4, ('as', 'RB'): 4, ('little', 'JJ'): 4, ('1', 'CD'): 4, ('As', 'IN'): 4, ('presidential', 'JJ'): 4, ('democracy', 'NN'): 4, ('also', 'RB'): 4, ('estate', 'NN'): 4, ('“', 'NN'): 4, ('In', 'IN'): 4, ('She', 'PRP'): 4, ('overseeing', 'VBG'): 3, ('limited', 'JJ'): 3, ('ex-president', 'NN'): 3, ('law', 'NN'): 3, ('clerks', 'NNS'): 3, ('member', 'NN'): 3, ('campaign', 'NN'): 3, ('!', '.'): 3, ('dismissed', 'VBN'): 3, ('such', 'JJ'): 3, ('later', 'RB'): 3, ('deleted', 'VBN'): 3, ('Personal', 'JJ'): 3, ('attacks', 'NNS'): 3, ('unacceptable', 'JJ'): 3, ('inappropriate', 'JJ'): 3, ('tolerate', 'VB'): 3, ('them', 'PRP'): 3, ('circumstances', 'NNS'): 3, ('serious', 'JJ'): 3, ('from', 'IN'): 3, ('speaking', 'VBG'): 3, ('Trump', 'NNP'): 3, ('250', 'CD'): 3, ('million', 'CD'): 3, ('prosecutors', 'NNS'): 3, ('political', 'JJ'): 3, ('while', 'IN'): 3, ('Monday', 'NNP'): 3, ('reporters', 'NNS'): 3, ('election', 'NN'): 3, ('witnesses', 'NNS'): 3, ('At', 'IN'): 3, ('believe', 'VBP'): 3, ('afford', 'VB'): 3, ('Our', 'PRP$'): 3, ('along', 'IN'): 3, ('takes', 'VBZ'): 3, ('go', 'VB'): 3, ('2024', 'CD'): 3, ('without', 'IN'): 3, ('newsroom', 'NN'): 3, ('other', 'JJ'): 3, ('President', 'NNP'): 3, ('3', 'CD'): 3, ('which', 'WDT'): 3, ('value', 'NN'): 3, ('assets', 'NNS'): 3, ('favorable', 'JJ'): 3, ('came', 'VBD'): 3, ('arguing', 'VBG'): 3, ('trying', 'VBG'): 3, ('‘', 'NNP'): 3, ('she', 'PRP'): 3, ('A', 'DT'): 2, ('indicted', 'JJ'): 2, ('defendant', 'NN'): 2, ('defendants', 'NNS'): 2, ('account', 'VBP'): 2, ('disparaging', 'NN'): 2, ('untrue', 'JJ'): 2, ('personally', 'RB'): 2, ('identifying', 'JJ'): 2, ('comments', 'NNS'): 2, ('that', 'DT'): 2, ('disparaging', 'VBG'): 2, ('an', 'DT'): 2, ('girlfriend', 'NN'): 2, ('immediately', 'RB'): 2, ('ordered', 'VBD'): 2, ('result', 'VB'): 2, ('sanctions.', 'NN'): 2, ('Consider', 'NNP'): 2, ('all', 'DT'): 2, ('posting', 'VBG'): 2, ('emailing', 'VBG'): 2, ('adult', 'NN'): 2, ('sons', 'NNS'): 2, ('over', 'IN'): 2, ('what', 'WP'): 2, ('front-runner', 'NN'): 2, ('denied', 'VBN'): 2, ('repeatedly', 'RB'): 2, ('attack', 'NN'): 2, ('lawsuit', 'NN'): 2, ('still', 'RB'): 2, ('began', 'VBD'): 2, ('been', 'VBN'): 2, ('comes', 'VBZ'): 2, ('federal', 'JJ'): 2, ('’', 'VBP'): 2, ('request', 'NN'): 2, ('overturn', 'VB'): 2, ('2020', 'CD'): 2, ('needs', 'VBZ'): 2, ('high-quality', 'NN'): 2, ('understand', 'VBP'): 2, ('pay', 'VB'): 2, ('subscriptions', 'NNS'): 2, ('That', 'DT'): 2, ('committed', 'VBN'): 2, ('providing', 'VBG'): 2, ('deeply', 'RB'): 2, ('reported', 'VBN'): 2, ('carefully', 'RB'): 2, ('fact-checked', 'JJ'): 2, ('freely', 'RB'): 2, ('accessible', 'JJ'): 2, ('hard-hitting', 'JJ'): 2, ('investigations', 'NNS'): 2, ('well-researched', 'JJ'): 2, ('need', 'VBP'): 2, ('people', 'NNS'): 2, ('Help', 'NNP'): 2, ('giving', 'VBG'): 2, ('Your', 'PRP$'): 2, ('contribution', 'NN'): 2, ('long', 'JJ'): 2, ('way', 'NN'): 2, ('race', 'NN'): 2, ('heats', 'VBZ'): 2, ('up', 'RP'): 2, ('very', 'JJ'): 2, ('foundations', 'NNS'): 2, ('stake', 'NN'): 2, ('vibrant', 'JJ'): 2, ('impossible', 'JJ'): 2, ('well-informed', 'JJ'): 2, ('citizens', 'NNS'): 2, ('paywalls', 'NNS'): 2, ('help', 'NN'): 2, ('Support', 'VB'): 2, ('contributing', 'VBG'): 2, ('month', 'NN'): 2, ('agreeing', 'VBG'): 2, ('State', 'NNP'): 2, ('October', 'NNP'): 2, ('reports', 'NNS'): 2, ('inflating', 'VBG'): 2, ('their', 'PRP$'): 2, ('deals', 'NNS'): 2, ('net', 'JJ'): 2, ('worth', 'NN'): 2, ('calling', 'VBG'): 2, ('majority', 'NN'): 2, ('leader', 'NN'): 2, ('removed', 'VBN'): 2, ('millions', 'NNS'): 2, ('set', 'VBN'): 2, ('public', 'JJ'): 2, ('statements', 'NNS'): 2, ('number', 'NN'): 2, ('posts', 'NNS'): 2, ('including', 'VBG'): 2, ('ruled', 'VBN'): 2, ('than', 'IN'): 2, ('get', 'VB'): 2, ('valuations', 'NNS'): 2, ('properties', 'NNS'): 2, ('allegations', 'NNS'): 2, ('finding', 'VBG'): 2, ('liable', 'JJ'): 2, ('world', 'NN'): 2, ('insurance', 'NN'): 2, (':', ':'): 2, ('Ex-President', 'NNP'): 2, ('’', 'NN'): 2, ('issued', 'VBD'): 2, ('”', 'VBP'): 2, ('since', 'IN'): 2, ('emails', 'NNS'): 2, ('accused', 'VBN'): 2, ('run', 'VB'): 2, ('governor', 'NN'): 2, ('back', 'RB'): 2, ('s', 'VBP'): 1, ('issued', 'VBN'): 1, ('disparaged', 'VBD'): 1, ('referring', 'VBG'): 1, ('made', 'VBD'): 1, ('earlier', 'JJR'): 1, ('principal', 'JJ'): 1, ('included', 'VBD'): 1, ('Majority', 'NNP'): 1, ('Leader', 'NNP'): 1, ('D-N.Y.', 'NNP'): 1, ('event', 'NN'): 1, ('judgeship', 'NN'): 1, ('me', 'PRP'): 1, ('How', 'WRB'): 1, ('disgraceful', 'JJ'): 1, ('”', 'JJ'): 1, ('warned', 'VBN'): 1, ('earlier', 'RBR'): 1, ('making', 'VBG'): 1, ('ignored', 'VBD'): 1, ('so', 'RB'): 1, ('according', 'VBG'): 1, ('won', 'VBD'): 1, ('t', 'NN'): 1, ('Failure', 'NN'): 1, ('abide', 'VB'): 1, ('statement', 'NN'): 1, ('forbidding', 'VBG'): 1, ('staff.', 'NN'): 1, ('businesses', 'NNS'): 1, ('being', 'VBG'): 1, ('sued', 'VBN'): 1, ('up', 'IN'): 1, ('argue', 'NN'): 1, ('persistent', 'JJ'): 1, ('wrongdoing', 'NN'): 1, ('cast', 'VBD'): 1, ('filed', 'VBD'): 1, ('its', 'PRP$'): 1, ('session', 'NN'): 1, ('Since', 'IN'): 1, ('non-jury', 'JJ'): 1, ('note', 'VBP'): 1, ('sitting', 'VBG'): 1, ('right', 'NN'): 1, ('directly', 'RB'): 1, ('front', 'NN'): 1, ('decides', 'VBZ'): 1, ('whether', 'IN'): 1, ('grant', 'VB'): 1, ('severe', 'JJ'): 1, ('indicted', 'VBN'): 1, ('efforts', 'NNS'): 1, ('Prosecutors', 'NNS'): 1, ('allege', 'VBZ'): 1, ('harassed', 'VBN'): 1, ('intimidated', 'VBN'): 1, ('fueled', 'VBD'): 1, ('threats', 'NNS'): 1, ('News', 'NNP'): 1, ('teams', 'NNS'): 1, ('invest', 'VBP'): 1, ('time', 'NN'): 1, ('care', 'NN'): 1, ('working', 'VBG'): 1, ('researched', 'JJ'): 1, ('analyses', 'NNS'): 1, ('quick', 'JJ'): 1, ('robust', 'JJ'): 1, ('daily', 'JJ'): 1, ('Life', 'NNP'): 1, ('Shopping', 'NNP'): 1, ('desks', 'NNS'): 1, ('provide', 'VBP'): 1, ('expert-vetted', 'JJ'): 1, ('information', 'NN'): 1, ('live', 'VB'): 1, ('best', 'JJS'): 1, ('life', 'NN'): 1, ('center', 'NN'): 1, ('stories', 'NNS'): 1, (\"'s\", 'POS'): 1, ('just', 'RB'): 1, ('those', 'DT'): 1, ('We', 'PRP'): 1, ('do', 'VB'): 1, ('even', 'RB'): 1, ('most', 'JJS'): 1, ('newsrooms', 'NNS'): 1, ('retreated', 'VBN'): 1, ('behind', 'IN'): 1, ('continues', 'VBZ'): 1, ('bring', 'VB'): 1, ('analysis', 'NN'): 1, ('timely', 'JJ'): 1, ('most', 'RBS'): 1, ('consequential', 'JJ'): 1, ('elections', 'NNS'): 1, ('recent', 'JJ'): 1, ('history', 'NN'): 1, ('Reporting', 'VBG'): 1, ('current', 'JJ'): 1, ('climate', 'NN'): 1, ('responsibility', 'NN'): 1, ('do', 'VBP'): 1, ('take', 'VB'): 1, ('lightly', 'RB'): 1, ('—', 'NNP'): 1, ('Reporter', 'NNP'): 1, ('Do', 'NNP'): 1, ('info', 'VBN'): 1, ('share', 'NN'): 1, ('?', '.'): 1, ('Here', 'RB'): 1, ('’', 'VBZ'): 1, ('how', 'WRB'): 1, ('By', 'IN'): 1, ('entering', 'VBG'): 1, ('email', 'NN'): 1, ('clicking', 'VBG'): 1, (\"'re\", 'VBP'): 1, ('let', 'VB'): 1, ('send', 'VB'): 1, ('customized', 'JJ'): 1, ('marketing', 'NN'): 1, ('messages', 'NNS'): 1, ('advertising', 'NN'): 1, ('partners', 'NNS'): 1, ('You', 'PRP'): 1, ('Terms', 'NNS'): 1, ('accusing', 'VBG'): 1, ('imposed', 'VBN'): 1, ('Former', 'NNP'): 1, ('speaks', 'VBZ'): 1, ('arrives', 'VBZ'): 1, ('...', ':'): 1, ('[', 'JJ'): 1, ('+', 'NNP'): 1, (']', 'VBD'): 1, ('prohibits', 'NNS'): 1, ('case—including', 'NN'): 1, ('Trump—from', 'NNP'): 1, ('posting', 'NN'): 1, ('”', 'VBN'): 1, ('’', 'VBD'): 1, ('imposed', 'VBD'): 1, ('accuses', 'VBZ'): 1, ('fraudulently', 'RB'): 1, ('obtain', 'VB'): 1, ('boost', 'VB'): 1, ('girlfriend', 'JJ'): 1, ('sharing', 'VBG'): 1, ('picture', 'NN'): 1, ('her', 'PRP'): 1, ('link', 'NN'): 1, ('Instagram', 'NNP'): 1, ('account', 'NN'): 1, ('Press', 'NNP'): 1, ('notes', 'NNS'): 1, ('closed-door', 'JJ'): 1, ('meeting', 'NN'): 1, ('during', 'IN'): 1, ('lunch', 'JJ'): 1, ('break', 'NN'): 1, ('viewed', 'VBN'): 1, ('first', 'RB'): 1, ('quoted', 'VBN'): 1, ('continue', 'VB'): 1, ('through', 'IN'): 1, ('December—with', 'NNP'): 1, ('expected', 'VBD'): 1, ('testify—and', 'VB'): 1, ('could', 'MD'): 1, ('associates', 'NNS'): 1, ('facing', 'VBG'): 1, ('penalties', 'NNS'): 1, ('fine', 'NN'): 1, ('prohibitions', 'NNS'): 1, ('commercial', 'JJ'): 1, ('acquisitions', 'NNS'): 1, ('next', 'JJ'): 1, ('five', 'CD'): 1, ('years', 'NNS'): 1, ('threatened', 'VBN'): 1, ('“', 'RB'): 1, ('sanctions', 'NNS'): 1, ('”', 'NNS'): 1, ('violate', 'VB'): 1, ('separately', 'RB'): 1, ('imposing', 'VBG'): 1, ('Special', 'JJ'): 1, ('counsel', 'NN'): 1, ('investigation', 'NN'): 1, ('asked', 'VBN'): 1, ('put', 'VB'): 1, ('based', 'VBN'): 1, ('sustained', 'VBD'): 1, ('prejudicial', 'JJ'): 1, ('”', 'FW'): 1, ('others', 'NNS'): 1, ('involved', 'VBN'): 1, ('citing', 'VBG'): 1, ('published', 'VBN'): 1, ('attacking', 'VBG'): 1, ('various', 'JJ'): 1, ('potential', 'JJ'): 1, ('Vice', 'NNP'): 1, ('yet', 'RB'): 1, ('hearing', 'NN'): 1, ('16', 'CD'): 1, ('sued', 'VBD'): 1, ('associates—including', 'VBG'): 1, ('children—in', 'NN'): 1, ('November', 'NNP'): 1, ('2022', 'CD'): 1, ('made', 'VBN'): 1, ('200', 'CD'): 1, ('false', 'JJ'): 1, ('misstated', 'VBD'): 1, ('inflate', 'VB'): 1, ('own', 'JJ'): 1, ('issue', 'NN'): 1, ('exaggerated', 'VBD'): 1, ('size', 'NN'): 1, ('penthouse', 'NN'): 1, ('overvalued', 'VBD'): 1, ('Mar-A-Lago', 'JJ'): 1, ('argued', 'VBN'): 1, ('subjective', 'JJ'): 1, ('estimates', 'NNS'): 1, ('correct', 'JJ'): 1, ('already', 'RB'): 1, ('once', 'RB'): 1, ('misstating', 'VBG'): 1, ('legal', 'JJ'): 1, ('arguments', 'NNS'): 1, ('out', 'IN'): 1, ('fantasy', 'JJ'): 1, ('wrote', 'VBD'): 1, ('moving', 'VBG'): 1, ('forward', 'RB'): 1, ('falsification', 'NN'): 1, ('records', 'NNS'): 1, ('they', 'PRP'): 1, ('intend', 'VBP'): 1, ('show', 'VB'): 1, ('intent', 'NN'): 1, ('commit', 'VB'): 1, ('Claim', 'NNP'): 1, ('He', 'PRP'): 1, ('Threw', 'VBD'): 1, ('80', 'CD'): 1, ('%', 'NN'): 1, ('Of', 'IN'): 1, ('Case', 'NNP'): 1, ('AG', 'NNP'): 1, ('Argues', 'VBZ'): 1, ('Changed', 'NNP'): 1, ('Numbers', 'NNP'): 1, ('To', 'TO'): 1, ('Boost', 'VB'): 1, ('His', 'PRP$'): 1, ('Claims', 'NNP'): 1, ('Right', 'NNP'): 1, ('About', 'IN'): 1, ('Off', 'IN'): 1, ('400', 'CD'): 1, ('For', 'IN'): 1, ('Years', 'NNS'): 1, ('Arrives', 'VBZ'): 1, ('Court', 'NNP'): 1, ('With', 'IN'): 1, ('Oct.', 'NNP'): 1, ('—', 'VBD'): 1, ('multimillion', 'NN'): 1, ('dollar', 'NN'): 1, ('partial', 'JJ'): 1, ('blasted', 'VBD'): 1, ('Justice', 'NNP'): 1, ('site', 'NN'): 1, ('captioned', 'VBD'): 1, ('Schumer', 'NNP'): 1, ('because', 'IN'): 1, ('me.', 'NN'): 1, ('several', 'JJ'): 1, ('hours', 'NNS'): 1, ('respect', 'NN'): 1, ('announced', 'VBD'): 1, ('afternoon', 'NN'): 1, ('posted', 'VBN'): 1, ('Although', 'IN'): 1, ('ordered', 'VBN'): 1, ('apparently', 'RB'): 1, ('emailed', 'VBN'): 1, ('out', 'RP'): 1, ('recipients', 'NNS'): 1, ('under', 'IN'): 1, ('added', 'VBD'): 1, ('threatening', 'VBG'): 1, ('nonspecific', 'JJ'): 1, ('”', 'VBD'): 1, ('bans', 'VBZ'): 1, ('remarks', 'NNS'): 1, ('criticized', 'VBN'): 1, ('far-left', 'JJ'): 1, ('Democrat', 'NNP'): 1, ('bias', 'NN'): 1, ('claims', 'NNS'): 1, ('hurt', 'VB'): 1, ('politically', 'RB'): 1, ('early', 'JJ'): 1, ('nomination', 'NN'): 1, ('told', 'VBD'): 1, ('called', 'VBD'): 1, ('Trump-hater', 'NN'): 1, ('interfere', 'RB'): 1, ('disgrace.', 'NN'): 1, ('blasted', 'VBN'): 1, ('probably', 'RB'): 1, ('also.', 'JJ'): 1, ('used', 'VBD'): 1, ('failed', 'VBD'): 1, ('attempt', 'NN'): 1, ('before', 'IN'): 1, ('hearing', 'VBG'): 1, ('virtually', 'RB'): 1, ('no', 'RB'): 1, ('following', 'VBG'): 1, ('Well', 'NNP'): 1, ('now', 'RB'): 1, ('again.', 'NN'): 1, ('And', 'CC'): 1, ('It', 'PRP'): 1, ('scam', 'NN'): 1, ('sham.', 'JJ'): 1, ('two', 'CD'): 1, ('Jr.', 'NNP'): 1, ('organization', 'NN'): 1, ('staggering', 'VBG'): 1, ('values', 'NNS'): 1, ('more', 'JJR'): 1, ('2', 'CD'): 1, ('billion', 'CD'): 1, ('gain', 'VB'): 1, ('tax', 'NN'): 1, ('benefits', 'NNS'): 1, ('secure', 'NN'): 1, ('loan', 'NN'): 1, ('terms', 'NNS'): 1, ('seeking', 'VBG'): 1, ('damages', 'NNS'): 1, ('ban', 'NN'): 1, ('would', 'MD'): 1, ('doing', 'VBG'): 1, ('pretrial', 'JJ'): 1, ('ruling', 'NN'): 1, ('last', 'JJ'): 1, ('week', 'NN'): 1, ('dissolved', 'VBD'): 1, ('companies', 'NNS'): 1, ('responsible', 'JJ'): 1})\n",
            "Entity Distribution in Generated Summary: Counter({('’', 'NNP'): 5, ('the', 'DT'): 5, (',', ','): 5, ('a', 'DT'): 4, ('of', 'IN'): 4, ('judge', 'NN'): 3, ('on', 'IN'): 3, ('.', '.'): 3, ('one', 'CD'): 2, ('s', 'NN'): 2, ('law', 'NN'): 2, ('and', 'CC'): 2, ('posted', 'VBD'): 2, ('to', 'TO'): 2, ('post', 'NN'): 2, ('day', 'NN'): 2, ('A', 'DT'): 1, ('overseeing', 'VBG'): 1, ('s', 'VBP'): 1, ('civil', 'JJ'): 1, ('fraud', 'NN'): 1, ('case', 'NN'): 1, ('has', 'VBZ'): 1, ('issued', 'VBN'): 1, ('limited', 'JJ'): 1, ('gag', 'NN'): 1, ('order', 'NN'): 1, ('indicted', 'JJ'): 1, ('ex-president', 'NN'): 1, ('after', 'IN'): 1, ('defendant', 'NN'): 1, ('publicly', 'RB'): 1, ('disparaged', 'VBD'): 1, ('clerks', 'NNS'): 1, ('her', 'PRP$'): 1, ('photo', 'NN'): 1, ('“', 'VB'): 1, ('This', 'DT'): 1, ('morning', 'NN'): 1, ('defendants', 'NNS'): 1, ('his', 'PRP$'): 1, ('social', 'JJ'): 1, ('media', 'NNS'): 1, ('account', 'VBP'): 1, ('disparaging', 'NN'): 1, ('untrue', 'JJ'): 1, ('personally', 'RB'): 1, ('identifying', 'JJ'): 1, ('about', 'IN'): 1, ('member', 'NN'): 1, ('my', 'PRP$'): 1, ('staff', 'NN'): 1, ('”', 'NNP'): 1, ('Judge', 'NNP'): 1, ('said', 'VBD'): 1, ('Tuesday', 'NNP'): 1, ('second', 'JJ'): 1, ('s', 'VBD'): 1, ('trial', 'NN'): 1, ('The', 'DT'): 1, ('comments', 'NNS'): 1, ('are', 'VBP'): 1, ('referring', 'VBG'): 1, ('made', 'VBD'): 1, ('earlier', 'JJR'): 1, ('that', 'DT'): 1, ('disparaging', 'VBG'): 1, ('s', 'VBZ'): 1, ('principal', 'JJ'): 1, ('clerk', 'NN'): 1})\n"
          ]
        }
      ]
    },
    {
      "cell_type": "code",
      "source": [
        "def calculate_coverage(generated_summary, input_articles):\n",
        "    # Tokenize input articles and summary\n",
        "    input_tokens = set(word_tokenize(\" \".join(input_articles)))\n",
        "    summary_tokens = set(word_tokenize(generated_summary))\n",
        "\n",
        "    # Calculate coverage\n",
        "    entity_coverage = len(summary_tokens.intersection(input_tokens)) / len(input_tokens)\n",
        "    return entity_coverage\n",
        "\n",
        "entity_coverage = calculate_coverage(summary, articles)\n",
        "print(\"Entity and Keyword Coverage:\", entity_coverage)"
      ],
      "metadata": {
        "colab": {
          "base_uri": "https://localhost:8080/",
          "height": 254
        },
        "id": "2ZRSlNZJS-Be",
        "outputId": "3bb7f17a-25c1-422f-849f-a7a55dbd7d0f"
      },
      "execution_count": null,
      "outputs": [
        {
          "output_type": "error",
          "ename": "NameError",
          "evalue": "ignored",
          "traceback": [
            "\u001b[0;31m---------------------------------------------------------------------------\u001b[0m",
            "\u001b[0;31mNameError\u001b[0m                                 Traceback (most recent call last)",
            "\u001b[0;32m<ipython-input-1-9ac0f7f4a44b>\u001b[0m in \u001b[0;36m<cell line: 10>\u001b[0;34m()\u001b[0m\n\u001b[1;32m      8\u001b[0m     \u001b[0;32mreturn\u001b[0m \u001b[0mentity_coverage\u001b[0m\u001b[0;34m\u001b[0m\u001b[0;34m\u001b[0m\u001b[0m\n\u001b[1;32m      9\u001b[0m \u001b[0;34m\u001b[0m\u001b[0m\n\u001b[0;32m---> 10\u001b[0;31m \u001b[0mentity_coverage\u001b[0m \u001b[0;34m=\u001b[0m \u001b[0mcalculate_coverage\u001b[0m\u001b[0;34m(\u001b[0m\u001b[0msummary\u001b[0m\u001b[0;34m,\u001b[0m \u001b[0marticles\u001b[0m\u001b[0;34m)\u001b[0m\u001b[0;34m\u001b[0m\u001b[0;34m\u001b[0m\u001b[0m\n\u001b[0m\u001b[1;32m     11\u001b[0m \u001b[0mprint\u001b[0m\u001b[0;34m(\u001b[0m\u001b[0;34m\"Entity and Keyword Coverage:\"\u001b[0m\u001b[0;34m,\u001b[0m \u001b[0mentity_coverage\u001b[0m\u001b[0;34m)\u001b[0m\u001b[0;34m\u001b[0m\u001b[0;34m\u001b[0m\u001b[0m\n\u001b[1;32m     12\u001b[0m \u001b[0mentity_coverage\u001b[0m \u001b[0;34m=\u001b[0m \u001b[0mcalculate_coverage\u001b[0m\u001b[0;34m(\u001b[0m\u001b[0msummary\u001b[0m\u001b[0;34m,\u001b[0m \u001b[0marticles\u001b[0m\u001b[0;34m[\u001b[0m\u001b[0;36m0\u001b[0m\u001b[0;34m]\u001b[0m\u001b[0;34m)\u001b[0m\u001b[0;34m\u001b[0m\u001b[0;34m\u001b[0m\u001b[0m\n",
            "\u001b[0;31mNameError\u001b[0m: name 'summary' is not defined"
          ]
        }
      ]
    },
    {
      "cell_type": "code",
      "source": [
        "from textblob import TextBlob\n",
        "\n",
        "def analyze_sentiment(text):\n",
        "    blob = TextBlob(text)\n",
        "    sentiment_score = blob.sentiment.polarity\n",
        "    return sentiment_score\n",
        "\n",
        "input_sentiment_scores = [analyze_sentiment(article) for article in articles]\n",
        "summary_sentiment_score = analyze_sentiment(summary)\n",
        "\n",
        "# Print sentiment scores\n",
        "print(\"Sentiment Scores for Input Articles:\", input_sentiment_scores)\n",
        "print(\"Sentiment Score for Generated Summary:\", summary_sentiment_score)\n"
      ],
      "metadata": {
        "colab": {
          "base_uri": "https://localhost:8080/"
        },
        "id": "XSI6DyChToEe",
        "outputId": "b60a281e-b276-498c-f907-1e4df6eac3ca"
      },
      "execution_count": null,
      "outputs": [
        {
          "output_type": "stream",
          "name": "stdout",
          "text": [
            "Sentiment Scores for Input Articles: [0.03284215784215785, 0.0780619477987899, -0.0011415172129457826]\n",
            "Sentiment Score for Generated Summary: 0.016450216450216448\n"
          ]
        }
      ]
    },
    {
      "cell_type": "code",
      "source": [
        "!pip install nltk textblob bert_score"
      ],
      "metadata": {
        "colab": {
          "base_uri": "https://localhost:8080/"
        },
        "id": "YmDTK-SkUak0",
        "outputId": "dd31d611-4c0b-4977-e357-c460226e2c69"
      },
      "execution_count": null,
      "outputs": [
        {
          "output_type": "stream",
          "name": "stdout",
          "text": [
            "Requirement already satisfied: nltk in /usr/local/lib/python3.10/dist-packages (3.8.1)\n",
            "Requirement already satisfied: textblob in /usr/local/lib/python3.10/dist-packages (0.17.1)\n",
            "Collecting bert_score\n",
            "  Downloading bert_score-0.3.13-py3-none-any.whl (61 kB)\n",
            "\u001b[2K     \u001b[90m━━━━━━━━━━━━━━━━━━━━━━━━━━━━━━━━━━━━━━━━\u001b[0m \u001b[32m61.1/61.1 kB\u001b[0m \u001b[31m2.0 MB/s\u001b[0m eta \u001b[36m0:00:00\u001b[0m\n",
            "\u001b[?25hRequirement already satisfied: click in /usr/local/lib/python3.10/dist-packages (from nltk) (8.1.7)\n",
            "Requirement already satisfied: joblib in /usr/local/lib/python3.10/dist-packages (from nltk) (1.3.2)\n",
            "Requirement already satisfied: regex>=2021.8.3 in /usr/local/lib/python3.10/dist-packages (from nltk) (2023.6.3)\n",
            "Requirement already satisfied: tqdm in /usr/local/lib/python3.10/dist-packages (from nltk) (4.66.1)\n",
            "Requirement already satisfied: torch>=1.0.0 in /usr/local/lib/python3.10/dist-packages (from bert_score) (2.1.0+cu118)\n",
            "Requirement already satisfied: pandas>=1.0.1 in /usr/local/lib/python3.10/dist-packages (from bert_score) (1.5.3)\n",
            "Requirement already satisfied: transformers>=3.0.0 in /usr/local/lib/python3.10/dist-packages (from bert_score) (4.35.2)\n",
            "Requirement already satisfied: numpy in /usr/local/lib/python3.10/dist-packages (from bert_score) (1.23.5)\n",
            "Requirement already satisfied: requests in /usr/local/lib/python3.10/dist-packages (from bert_score) (2.31.0)\n",
            "Requirement already satisfied: matplotlib in /usr/local/lib/python3.10/dist-packages (from bert_score) (3.7.1)\n",
            "Requirement already satisfied: packaging>=20.9 in /usr/local/lib/python3.10/dist-packages (from bert_score) (23.2)\n",
            "Requirement already satisfied: python-dateutil>=2.8.1 in /usr/local/lib/python3.10/dist-packages (from pandas>=1.0.1->bert_score) (2.8.2)\n",
            "Requirement already satisfied: pytz>=2020.1 in /usr/local/lib/python3.10/dist-packages (from pandas>=1.0.1->bert_score) (2023.3.post1)\n",
            "Requirement already satisfied: filelock in /usr/local/lib/python3.10/dist-packages (from torch>=1.0.0->bert_score) (3.13.1)\n",
            "Requirement already satisfied: typing-extensions in /usr/local/lib/python3.10/dist-packages (from torch>=1.0.0->bert_score) (4.5.0)\n",
            "Requirement already satisfied: sympy in /usr/local/lib/python3.10/dist-packages (from torch>=1.0.0->bert_score) (1.12)\n",
            "Requirement already satisfied: networkx in /usr/local/lib/python3.10/dist-packages (from torch>=1.0.0->bert_score) (3.2.1)\n",
            "Requirement already satisfied: jinja2 in /usr/local/lib/python3.10/dist-packages (from torch>=1.0.0->bert_score) (3.1.2)\n",
            "Requirement already satisfied: fsspec in /usr/local/lib/python3.10/dist-packages (from torch>=1.0.0->bert_score) (2023.6.0)\n",
            "Requirement already satisfied: triton==2.1.0 in /usr/local/lib/python3.10/dist-packages (from torch>=1.0.0->bert_score) (2.1.0)\n",
            "Requirement already satisfied: huggingface-hub<1.0,>=0.16.4 in /usr/local/lib/python3.10/dist-packages (from transformers>=3.0.0->bert_score) (0.19.4)\n",
            "Requirement already satisfied: pyyaml>=5.1 in /usr/local/lib/python3.10/dist-packages (from transformers>=3.0.0->bert_score) (6.0.1)\n",
            "Requirement already satisfied: tokenizers<0.19,>=0.14 in /usr/local/lib/python3.10/dist-packages (from transformers>=3.0.0->bert_score) (0.15.0)\n",
            "Requirement already satisfied: safetensors>=0.3.1 in /usr/local/lib/python3.10/dist-packages (from transformers>=3.0.0->bert_score) (0.4.0)\n",
            "Requirement already satisfied: contourpy>=1.0.1 in /usr/local/lib/python3.10/dist-packages (from matplotlib->bert_score) (1.2.0)\n",
            "Requirement already satisfied: cycler>=0.10 in /usr/local/lib/python3.10/dist-packages (from matplotlib->bert_score) (0.12.1)\n",
            "Requirement already satisfied: fonttools>=4.22.0 in /usr/local/lib/python3.10/dist-packages (from matplotlib->bert_score) (4.44.3)\n",
            "Requirement already satisfied: kiwisolver>=1.0.1 in /usr/local/lib/python3.10/dist-packages (from matplotlib->bert_score) (1.4.5)\n",
            "Requirement already satisfied: pillow>=6.2.0 in /usr/local/lib/python3.10/dist-packages (from matplotlib->bert_score) (9.4.0)\n",
            "Requirement already satisfied: pyparsing>=2.3.1 in /usr/local/lib/python3.10/dist-packages (from matplotlib->bert_score) (3.1.1)\n",
            "Requirement already satisfied: charset-normalizer<4,>=2 in /usr/local/lib/python3.10/dist-packages (from requests->bert_score) (3.3.2)\n",
            "Requirement already satisfied: idna<4,>=2.5 in /usr/local/lib/python3.10/dist-packages (from requests->bert_score) (3.4)\n",
            "Requirement already satisfied: urllib3<3,>=1.21.1 in /usr/local/lib/python3.10/dist-packages (from requests->bert_score) (2.0.7)\n",
            "Requirement already satisfied: certifi>=2017.4.17 in /usr/local/lib/python3.10/dist-packages (from requests->bert_score) (2023.7.22)\n",
            "Requirement already satisfied: six>=1.5 in /usr/local/lib/python3.10/dist-packages (from python-dateutil>=2.8.1->pandas>=1.0.1->bert_score) (1.16.0)\n",
            "Requirement already satisfied: MarkupSafe>=2.0 in /usr/local/lib/python3.10/dist-packages (from jinja2->torch>=1.0.0->bert_score) (2.1.3)\n",
            "Requirement already satisfied: mpmath>=0.19 in /usr/local/lib/python3.10/dist-packages (from sympy->torch>=1.0.0->bert_score) (1.3.0)\n",
            "Installing collected packages: bert_score\n",
            "Successfully installed bert_score-0.3.13\n"
          ]
        }
      ]
    },
    {
      "cell_type": "code",
      "source": [
        "from bert_score import score\n",
        "lst = [summary]\n",
        "lang = \"en\"\n",
        "\n",
        "_, _, bert_score_input = score(lst, [\" \".join(articles)], lang=lang)\n",
        "\n",
        "# Print BERTScore for comparison\n",
        "print(\"BERTScore for Generated Summary vs. Input Articles:\", bert_score_input.mean().item())\n"
      ],
      "metadata": {
        "colab": {
          "base_uri": "https://localhost:8080/",
          "height": 252,
          "referenced_widgets": [
            "18d11bbab2dc40cf8af8c71737091801",
            "494a34d5ea01492aa27cf1400cd9cac2",
            "403aa5160f254810a6256eb89522dbb6",
            "451333584b494f2190de94cce300d711",
            "30029c14f4744d5ebdb96122f4b937e4",
            "98f73b7acf4b4bc6864f3b51f4289243",
            "9ccbc0a515f14cdc8dbff87690357207",
            "0ed3b164d46c4943ad56bfa4d2d446b8",
            "1c93d291e3344fd1b89c4952daf2d39a",
            "32709310b2c64a5fbf9e4578ac639432",
            "ad1434952a934e908073986eafc161b2",
            "f18d9c79dd19449883248321d85b389f",
            "fe16b920dda240ada4bf89a6341e3850",
            "2f9bff29755b451f92e0e14a9fc71e3e",
            "f68b341c14ce42d5910e4051401d882d",
            "d3cc00982b03439a8330392df90061c1",
            "f75a1ac2982946e6a7f43589dcb7e542",
            "0930e89e0cfb47a4b52e04c00f7ff5b4",
            "729c543192e3467b805a6b884fbc528a",
            "3051ed9a6713479c9442274779b39237",
            "f4b2c2c4a658449a99bd26b2a24c2e3e",
            "82f3f3a3757e48cd81d6ad2edfcd2871",
            "130fe1a8cd3f42aba6000f913c292152",
            "cfd98da316c44667aa3830ca78fc434b",
            "a6ad2e3b6c314e1580069d5ce197b226",
            "108a7919fa1942b3b147eaf69362f253",
            "5fc520144486420eb2c7f392b53228a4",
            "9f94ec6617724514aab94ecb7d22c201",
            "ca17aa1ee4954fb88e53f10be31bd437",
            "42982a8ee286486bb3880013d4ad70b7",
            "e70f328633ca445598e1d77cb483904b",
            "70448c8160244d20bac9d0d7b31f9c9a",
            "167aee1301c84312a67c8b07baa4867b",
            "4f7c7264ba744cc2995cfd0dd9b05af2",
            "846b3bffe20e4c1b8b863d29925a8122",
            "3ec096f5cb9f46b5b8c7174bfba5c8ba",
            "2f618cf9e590475bba83d7b617124911",
            "e60f2ab90c8744498e5333bcc1204261",
            "0a3985704e78493786b833afffbe63b0",
            "aa09e1bb9f3d4563af426d4ee9b72afd",
            "5342ded74e494a61aeb094926de68f4c",
            "3c19a360d7ba4d89b1c389ea20d8892c",
            "f23d6b77cb6a42a1baab24252e0d0366",
            "d4f2b03879fe42e581156f7f53307243",
            "2cc6ae5e64d149f79a5421c35b069e6f",
            "b80ecb1ba0f842aca2f1057aaa830246",
            "a7b547a0faad41008eaeb6b4d8f62aca",
            "27eaeb28a8cc4e62af33abbad6ba9f8c",
            "135abba3bc2a42a89e7a4da2862bcf45",
            "4168a9f4b9ed42c68882b36da9f18587",
            "50f472fb5ddd4b5188a6c265b820839f",
            "23a5ad6ab98b4b2fa92188375bad3593",
            "94211dfda9c240debe09cc776ff39bd2",
            "c7899867c3354023b81e0cedd8ea5673",
            "00f69aafb3434bf3a4dd607a41e6e2a0"
          ]
        },
        "id": "PXESaHlcUCPG",
        "outputId": "588ea224-7b5f-4e26-e271-bf771defdd99"
      },
      "execution_count": null,
      "outputs": [
        {
          "output_type": "display_data",
          "data": {
            "text/plain": [
              "config.json:   0%|          | 0.00/482 [00:00<?, ?B/s]"
            ],
            "application/vnd.jupyter.widget-view+json": {
              "version_major": 2,
              "version_minor": 0,
              "model_id": "18d11bbab2dc40cf8af8c71737091801"
            }
          },
          "metadata": {}
        },
        {
          "output_type": "display_data",
          "data": {
            "text/plain": [
              "vocab.json:   0%|          | 0.00/899k [00:00<?, ?B/s]"
            ],
            "application/vnd.jupyter.widget-view+json": {
              "version_major": 2,
              "version_minor": 0,
              "model_id": "f18d9c79dd19449883248321d85b389f"
            }
          },
          "metadata": {}
        },
        {
          "output_type": "display_data",
          "data": {
            "text/plain": [
              "merges.txt:   0%|          | 0.00/456k [00:00<?, ?B/s]"
            ],
            "application/vnd.jupyter.widget-view+json": {
              "version_major": 2,
              "version_minor": 0,
              "model_id": "130fe1a8cd3f42aba6000f913c292152"
            }
          },
          "metadata": {}
        },
        {
          "output_type": "display_data",
          "data": {
            "text/plain": [
              "tokenizer.json:   0%|          | 0.00/1.36M [00:00<?, ?B/s]"
            ],
            "application/vnd.jupyter.widget-view+json": {
              "version_major": 2,
              "version_minor": 0,
              "model_id": "4f7c7264ba744cc2995cfd0dd9b05af2"
            }
          },
          "metadata": {}
        },
        {
          "output_type": "display_data",
          "data": {
            "text/plain": [
              "model.safetensors:   0%|          | 0.00/1.42G [00:00<?, ?B/s]"
            ],
            "application/vnd.jupyter.widget-view+json": {
              "version_major": 2,
              "version_minor": 0,
              "model_id": "2cc6ae5e64d149f79a5421c35b069e6f"
            }
          },
          "metadata": {}
        },
        {
          "output_type": "stream",
          "name": "stderr",
          "text": [
            "Some weights of RobertaModel were not initialized from the model checkpoint at roberta-large and are newly initialized: ['roberta.pooler.dense.bias', 'roberta.pooler.dense.weight']\n",
            "You should probably TRAIN this model on a down-stream task to be able to use it for predictions and inference.\n"
          ]
        },
        {
          "output_type": "stream",
          "name": "stdout",
          "text": [
            "BERTScore for Generated Summary vs. Input Articles: 0.9130830764770508\n"
          ]
        }
      ]
    }
  ],
  "metadata": {
    "colab": {
      "provenance": []
    },
    "kernelspec": {
      "display_name": "Python 3",
      "name": "python3"
    },
    "language_info": {
      "name": "python"
    },
    "widgets": {
      "application/vnd.jupyter.widget-state+json": {
        "18d11bbab2dc40cf8af8c71737091801": {
          "model_module": "@jupyter-widgets/controls",
          "model_name": "HBoxModel",
          "model_module_version": "1.5.0",
          "state": {
            "_dom_classes": [],
            "_model_module": "@jupyter-widgets/controls",
            "_model_module_version": "1.5.0",
            "_model_name": "HBoxModel",
            "_view_count": null,
            "_view_module": "@jupyter-widgets/controls",
            "_view_module_version": "1.5.0",
            "_view_name": "HBoxView",
            "box_style": "",
            "children": [
              "IPY_MODEL_494a34d5ea01492aa27cf1400cd9cac2",
              "IPY_MODEL_403aa5160f254810a6256eb89522dbb6",
              "IPY_MODEL_451333584b494f2190de94cce300d711"
            ],
            "layout": "IPY_MODEL_30029c14f4744d5ebdb96122f4b937e4"
          }
        },
        "494a34d5ea01492aa27cf1400cd9cac2": {
          "model_module": "@jupyter-widgets/controls",
          "model_name": "HTMLModel",
          "model_module_version": "1.5.0",
          "state": {
            "_dom_classes": [],
            "_model_module": "@jupyter-widgets/controls",
            "_model_module_version": "1.5.0",
            "_model_name": "HTMLModel",
            "_view_count": null,
            "_view_module": "@jupyter-widgets/controls",
            "_view_module_version": "1.5.0",
            "_view_name": "HTMLView",
            "description": "",
            "description_tooltip": null,
            "layout": "IPY_MODEL_98f73b7acf4b4bc6864f3b51f4289243",
            "placeholder": "​",
            "style": "IPY_MODEL_9ccbc0a515f14cdc8dbff87690357207",
            "value": "config.json: 100%"
          }
        },
        "403aa5160f254810a6256eb89522dbb6": {
          "model_module": "@jupyter-widgets/controls",
          "model_name": "FloatProgressModel",
          "model_module_version": "1.5.0",
          "state": {
            "_dom_classes": [],
            "_model_module": "@jupyter-widgets/controls",
            "_model_module_version": "1.5.0",
            "_model_name": "FloatProgressModel",
            "_view_count": null,
            "_view_module": "@jupyter-widgets/controls",
            "_view_module_version": "1.5.0",
            "_view_name": "ProgressView",
            "bar_style": "success",
            "description": "",
            "description_tooltip": null,
            "layout": "IPY_MODEL_0ed3b164d46c4943ad56bfa4d2d446b8",
            "max": 482,
            "min": 0,
            "orientation": "horizontal",
            "style": "IPY_MODEL_1c93d291e3344fd1b89c4952daf2d39a",
            "value": 482
          }
        },
        "451333584b494f2190de94cce300d711": {
          "model_module": "@jupyter-widgets/controls",
          "model_name": "HTMLModel",
          "model_module_version": "1.5.0",
          "state": {
            "_dom_classes": [],
            "_model_module": "@jupyter-widgets/controls",
            "_model_module_version": "1.5.0",
            "_model_name": "HTMLModel",
            "_view_count": null,
            "_view_module": "@jupyter-widgets/controls",
            "_view_module_version": "1.5.0",
            "_view_name": "HTMLView",
            "description": "",
            "description_tooltip": null,
            "layout": "IPY_MODEL_32709310b2c64a5fbf9e4578ac639432",
            "placeholder": "​",
            "style": "IPY_MODEL_ad1434952a934e908073986eafc161b2",
            "value": " 482/482 [00:00&lt;00:00, 7.05kB/s]"
          }
        },
        "30029c14f4744d5ebdb96122f4b937e4": {
          "model_module": "@jupyter-widgets/base",
          "model_name": "LayoutModel",
          "model_module_version": "1.2.0",
          "state": {
            "_model_module": "@jupyter-widgets/base",
            "_model_module_version": "1.2.0",
            "_model_name": "LayoutModel",
            "_view_count": null,
            "_view_module": "@jupyter-widgets/base",
            "_view_module_version": "1.2.0",
            "_view_name": "LayoutView",
            "align_content": null,
            "align_items": null,
            "align_self": null,
            "border": null,
            "bottom": null,
            "display": null,
            "flex": null,
            "flex_flow": null,
            "grid_area": null,
            "grid_auto_columns": null,
            "grid_auto_flow": null,
            "grid_auto_rows": null,
            "grid_column": null,
            "grid_gap": null,
            "grid_row": null,
            "grid_template_areas": null,
            "grid_template_columns": null,
            "grid_template_rows": null,
            "height": null,
            "justify_content": null,
            "justify_items": null,
            "left": null,
            "margin": null,
            "max_height": null,
            "max_width": null,
            "min_height": null,
            "min_width": null,
            "object_fit": null,
            "object_position": null,
            "order": null,
            "overflow": null,
            "overflow_x": null,
            "overflow_y": null,
            "padding": null,
            "right": null,
            "top": null,
            "visibility": null,
            "width": null
          }
        },
        "98f73b7acf4b4bc6864f3b51f4289243": {
          "model_module": "@jupyter-widgets/base",
          "model_name": "LayoutModel",
          "model_module_version": "1.2.0",
          "state": {
            "_model_module": "@jupyter-widgets/base",
            "_model_module_version": "1.2.0",
            "_model_name": "LayoutModel",
            "_view_count": null,
            "_view_module": "@jupyter-widgets/base",
            "_view_module_version": "1.2.0",
            "_view_name": "LayoutView",
            "align_content": null,
            "align_items": null,
            "align_self": null,
            "border": null,
            "bottom": null,
            "display": null,
            "flex": null,
            "flex_flow": null,
            "grid_area": null,
            "grid_auto_columns": null,
            "grid_auto_flow": null,
            "grid_auto_rows": null,
            "grid_column": null,
            "grid_gap": null,
            "grid_row": null,
            "grid_template_areas": null,
            "grid_template_columns": null,
            "grid_template_rows": null,
            "height": null,
            "justify_content": null,
            "justify_items": null,
            "left": null,
            "margin": null,
            "max_height": null,
            "max_width": null,
            "min_height": null,
            "min_width": null,
            "object_fit": null,
            "object_position": null,
            "order": null,
            "overflow": null,
            "overflow_x": null,
            "overflow_y": null,
            "padding": null,
            "right": null,
            "top": null,
            "visibility": null,
            "width": null
          }
        },
        "9ccbc0a515f14cdc8dbff87690357207": {
          "model_module": "@jupyter-widgets/controls",
          "model_name": "DescriptionStyleModel",
          "model_module_version": "1.5.0",
          "state": {
            "_model_module": "@jupyter-widgets/controls",
            "_model_module_version": "1.5.0",
            "_model_name": "DescriptionStyleModel",
            "_view_count": null,
            "_view_module": "@jupyter-widgets/base",
            "_view_module_version": "1.2.0",
            "_view_name": "StyleView",
            "description_width": ""
          }
        },
        "0ed3b164d46c4943ad56bfa4d2d446b8": {
          "model_module": "@jupyter-widgets/base",
          "model_name": "LayoutModel",
          "model_module_version": "1.2.0",
          "state": {
            "_model_module": "@jupyter-widgets/base",
            "_model_module_version": "1.2.0",
            "_model_name": "LayoutModel",
            "_view_count": null,
            "_view_module": "@jupyter-widgets/base",
            "_view_module_version": "1.2.0",
            "_view_name": "LayoutView",
            "align_content": null,
            "align_items": null,
            "align_self": null,
            "border": null,
            "bottom": null,
            "display": null,
            "flex": null,
            "flex_flow": null,
            "grid_area": null,
            "grid_auto_columns": null,
            "grid_auto_flow": null,
            "grid_auto_rows": null,
            "grid_column": null,
            "grid_gap": null,
            "grid_row": null,
            "grid_template_areas": null,
            "grid_template_columns": null,
            "grid_template_rows": null,
            "height": null,
            "justify_content": null,
            "justify_items": null,
            "left": null,
            "margin": null,
            "max_height": null,
            "max_width": null,
            "min_height": null,
            "min_width": null,
            "object_fit": null,
            "object_position": null,
            "order": null,
            "overflow": null,
            "overflow_x": null,
            "overflow_y": null,
            "padding": null,
            "right": null,
            "top": null,
            "visibility": null,
            "width": null
          }
        },
        "1c93d291e3344fd1b89c4952daf2d39a": {
          "model_module": "@jupyter-widgets/controls",
          "model_name": "ProgressStyleModel",
          "model_module_version": "1.5.0",
          "state": {
            "_model_module": "@jupyter-widgets/controls",
            "_model_module_version": "1.5.0",
            "_model_name": "ProgressStyleModel",
            "_view_count": null,
            "_view_module": "@jupyter-widgets/base",
            "_view_module_version": "1.2.0",
            "_view_name": "StyleView",
            "bar_color": null,
            "description_width": ""
          }
        },
        "32709310b2c64a5fbf9e4578ac639432": {
          "model_module": "@jupyter-widgets/base",
          "model_name": "LayoutModel",
          "model_module_version": "1.2.0",
          "state": {
            "_model_module": "@jupyter-widgets/base",
            "_model_module_version": "1.2.0",
            "_model_name": "LayoutModel",
            "_view_count": null,
            "_view_module": "@jupyter-widgets/base",
            "_view_module_version": "1.2.0",
            "_view_name": "LayoutView",
            "align_content": null,
            "align_items": null,
            "align_self": null,
            "border": null,
            "bottom": null,
            "display": null,
            "flex": null,
            "flex_flow": null,
            "grid_area": null,
            "grid_auto_columns": null,
            "grid_auto_flow": null,
            "grid_auto_rows": null,
            "grid_column": null,
            "grid_gap": null,
            "grid_row": null,
            "grid_template_areas": null,
            "grid_template_columns": null,
            "grid_template_rows": null,
            "height": null,
            "justify_content": null,
            "justify_items": null,
            "left": null,
            "margin": null,
            "max_height": null,
            "max_width": null,
            "min_height": null,
            "min_width": null,
            "object_fit": null,
            "object_position": null,
            "order": null,
            "overflow": null,
            "overflow_x": null,
            "overflow_y": null,
            "padding": null,
            "right": null,
            "top": null,
            "visibility": null,
            "width": null
          }
        },
        "ad1434952a934e908073986eafc161b2": {
          "model_module": "@jupyter-widgets/controls",
          "model_name": "DescriptionStyleModel",
          "model_module_version": "1.5.0",
          "state": {
            "_model_module": "@jupyter-widgets/controls",
            "_model_module_version": "1.5.0",
            "_model_name": "DescriptionStyleModel",
            "_view_count": null,
            "_view_module": "@jupyter-widgets/base",
            "_view_module_version": "1.2.0",
            "_view_name": "StyleView",
            "description_width": ""
          }
        },
        "f18d9c79dd19449883248321d85b389f": {
          "model_module": "@jupyter-widgets/controls",
          "model_name": "HBoxModel",
          "model_module_version": "1.5.0",
          "state": {
            "_dom_classes": [],
            "_model_module": "@jupyter-widgets/controls",
            "_model_module_version": "1.5.0",
            "_model_name": "HBoxModel",
            "_view_count": null,
            "_view_module": "@jupyter-widgets/controls",
            "_view_module_version": "1.5.0",
            "_view_name": "HBoxView",
            "box_style": "",
            "children": [
              "IPY_MODEL_fe16b920dda240ada4bf89a6341e3850",
              "IPY_MODEL_2f9bff29755b451f92e0e14a9fc71e3e",
              "IPY_MODEL_f68b341c14ce42d5910e4051401d882d"
            ],
            "layout": "IPY_MODEL_d3cc00982b03439a8330392df90061c1"
          }
        },
        "fe16b920dda240ada4bf89a6341e3850": {
          "model_module": "@jupyter-widgets/controls",
          "model_name": "HTMLModel",
          "model_module_version": "1.5.0",
          "state": {
            "_dom_classes": [],
            "_model_module": "@jupyter-widgets/controls",
            "_model_module_version": "1.5.0",
            "_model_name": "HTMLModel",
            "_view_count": null,
            "_view_module": "@jupyter-widgets/controls",
            "_view_module_version": "1.5.0",
            "_view_name": "HTMLView",
            "description": "",
            "description_tooltip": null,
            "layout": "IPY_MODEL_f75a1ac2982946e6a7f43589dcb7e542",
            "placeholder": "​",
            "style": "IPY_MODEL_0930e89e0cfb47a4b52e04c00f7ff5b4",
            "value": "vocab.json: 100%"
          }
        },
        "2f9bff29755b451f92e0e14a9fc71e3e": {
          "model_module": "@jupyter-widgets/controls",
          "model_name": "FloatProgressModel",
          "model_module_version": "1.5.0",
          "state": {
            "_dom_classes": [],
            "_model_module": "@jupyter-widgets/controls",
            "_model_module_version": "1.5.0",
            "_model_name": "FloatProgressModel",
            "_view_count": null,
            "_view_module": "@jupyter-widgets/controls",
            "_view_module_version": "1.5.0",
            "_view_name": "ProgressView",
            "bar_style": "success",
            "description": "",
            "description_tooltip": null,
            "layout": "IPY_MODEL_729c543192e3467b805a6b884fbc528a",
            "max": 898823,
            "min": 0,
            "orientation": "horizontal",
            "style": "IPY_MODEL_3051ed9a6713479c9442274779b39237",
            "value": 898823
          }
        },
        "f68b341c14ce42d5910e4051401d882d": {
          "model_module": "@jupyter-widgets/controls",
          "model_name": "HTMLModel",
          "model_module_version": "1.5.0",
          "state": {
            "_dom_classes": [],
            "_model_module": "@jupyter-widgets/controls",
            "_model_module_version": "1.5.0",
            "_model_name": "HTMLModel",
            "_view_count": null,
            "_view_module": "@jupyter-widgets/controls",
            "_view_module_version": "1.5.0",
            "_view_name": "HTMLView",
            "description": "",
            "description_tooltip": null,
            "layout": "IPY_MODEL_f4b2c2c4a658449a99bd26b2a24c2e3e",
            "placeholder": "​",
            "style": "IPY_MODEL_82f3f3a3757e48cd81d6ad2edfcd2871",
            "value": " 899k/899k [00:00&lt;00:00, 4.57MB/s]"
          }
        },
        "d3cc00982b03439a8330392df90061c1": {
          "model_module": "@jupyter-widgets/base",
          "model_name": "LayoutModel",
          "model_module_version": "1.2.0",
          "state": {
            "_model_module": "@jupyter-widgets/base",
            "_model_module_version": "1.2.0",
            "_model_name": "LayoutModel",
            "_view_count": null,
            "_view_module": "@jupyter-widgets/base",
            "_view_module_version": "1.2.0",
            "_view_name": "LayoutView",
            "align_content": null,
            "align_items": null,
            "align_self": null,
            "border": null,
            "bottom": null,
            "display": null,
            "flex": null,
            "flex_flow": null,
            "grid_area": null,
            "grid_auto_columns": null,
            "grid_auto_flow": null,
            "grid_auto_rows": null,
            "grid_column": null,
            "grid_gap": null,
            "grid_row": null,
            "grid_template_areas": null,
            "grid_template_columns": null,
            "grid_template_rows": null,
            "height": null,
            "justify_content": null,
            "justify_items": null,
            "left": null,
            "margin": null,
            "max_height": null,
            "max_width": null,
            "min_height": null,
            "min_width": null,
            "object_fit": null,
            "object_position": null,
            "order": null,
            "overflow": null,
            "overflow_x": null,
            "overflow_y": null,
            "padding": null,
            "right": null,
            "top": null,
            "visibility": null,
            "width": null
          }
        },
        "f75a1ac2982946e6a7f43589dcb7e542": {
          "model_module": "@jupyter-widgets/base",
          "model_name": "LayoutModel",
          "model_module_version": "1.2.0",
          "state": {
            "_model_module": "@jupyter-widgets/base",
            "_model_module_version": "1.2.0",
            "_model_name": "LayoutModel",
            "_view_count": null,
            "_view_module": "@jupyter-widgets/base",
            "_view_module_version": "1.2.0",
            "_view_name": "LayoutView",
            "align_content": null,
            "align_items": null,
            "align_self": null,
            "border": null,
            "bottom": null,
            "display": null,
            "flex": null,
            "flex_flow": null,
            "grid_area": null,
            "grid_auto_columns": null,
            "grid_auto_flow": null,
            "grid_auto_rows": null,
            "grid_column": null,
            "grid_gap": null,
            "grid_row": null,
            "grid_template_areas": null,
            "grid_template_columns": null,
            "grid_template_rows": null,
            "height": null,
            "justify_content": null,
            "justify_items": null,
            "left": null,
            "margin": null,
            "max_height": null,
            "max_width": null,
            "min_height": null,
            "min_width": null,
            "object_fit": null,
            "object_position": null,
            "order": null,
            "overflow": null,
            "overflow_x": null,
            "overflow_y": null,
            "padding": null,
            "right": null,
            "top": null,
            "visibility": null,
            "width": null
          }
        },
        "0930e89e0cfb47a4b52e04c00f7ff5b4": {
          "model_module": "@jupyter-widgets/controls",
          "model_name": "DescriptionStyleModel",
          "model_module_version": "1.5.0",
          "state": {
            "_model_module": "@jupyter-widgets/controls",
            "_model_module_version": "1.5.0",
            "_model_name": "DescriptionStyleModel",
            "_view_count": null,
            "_view_module": "@jupyter-widgets/base",
            "_view_module_version": "1.2.0",
            "_view_name": "StyleView",
            "description_width": ""
          }
        },
        "729c543192e3467b805a6b884fbc528a": {
          "model_module": "@jupyter-widgets/base",
          "model_name": "LayoutModel",
          "model_module_version": "1.2.0",
          "state": {
            "_model_module": "@jupyter-widgets/base",
            "_model_module_version": "1.2.0",
            "_model_name": "LayoutModel",
            "_view_count": null,
            "_view_module": "@jupyter-widgets/base",
            "_view_module_version": "1.2.0",
            "_view_name": "LayoutView",
            "align_content": null,
            "align_items": null,
            "align_self": null,
            "border": null,
            "bottom": null,
            "display": null,
            "flex": null,
            "flex_flow": null,
            "grid_area": null,
            "grid_auto_columns": null,
            "grid_auto_flow": null,
            "grid_auto_rows": null,
            "grid_column": null,
            "grid_gap": null,
            "grid_row": null,
            "grid_template_areas": null,
            "grid_template_columns": null,
            "grid_template_rows": null,
            "height": null,
            "justify_content": null,
            "justify_items": null,
            "left": null,
            "margin": null,
            "max_height": null,
            "max_width": null,
            "min_height": null,
            "min_width": null,
            "object_fit": null,
            "object_position": null,
            "order": null,
            "overflow": null,
            "overflow_x": null,
            "overflow_y": null,
            "padding": null,
            "right": null,
            "top": null,
            "visibility": null,
            "width": null
          }
        },
        "3051ed9a6713479c9442274779b39237": {
          "model_module": "@jupyter-widgets/controls",
          "model_name": "ProgressStyleModel",
          "model_module_version": "1.5.0",
          "state": {
            "_model_module": "@jupyter-widgets/controls",
            "_model_module_version": "1.5.0",
            "_model_name": "ProgressStyleModel",
            "_view_count": null,
            "_view_module": "@jupyter-widgets/base",
            "_view_module_version": "1.2.0",
            "_view_name": "StyleView",
            "bar_color": null,
            "description_width": ""
          }
        },
        "f4b2c2c4a658449a99bd26b2a24c2e3e": {
          "model_module": "@jupyter-widgets/base",
          "model_name": "LayoutModel",
          "model_module_version": "1.2.0",
          "state": {
            "_model_module": "@jupyter-widgets/base",
            "_model_module_version": "1.2.0",
            "_model_name": "LayoutModel",
            "_view_count": null,
            "_view_module": "@jupyter-widgets/base",
            "_view_module_version": "1.2.0",
            "_view_name": "LayoutView",
            "align_content": null,
            "align_items": null,
            "align_self": null,
            "border": null,
            "bottom": null,
            "display": null,
            "flex": null,
            "flex_flow": null,
            "grid_area": null,
            "grid_auto_columns": null,
            "grid_auto_flow": null,
            "grid_auto_rows": null,
            "grid_column": null,
            "grid_gap": null,
            "grid_row": null,
            "grid_template_areas": null,
            "grid_template_columns": null,
            "grid_template_rows": null,
            "height": null,
            "justify_content": null,
            "justify_items": null,
            "left": null,
            "margin": null,
            "max_height": null,
            "max_width": null,
            "min_height": null,
            "min_width": null,
            "object_fit": null,
            "object_position": null,
            "order": null,
            "overflow": null,
            "overflow_x": null,
            "overflow_y": null,
            "padding": null,
            "right": null,
            "top": null,
            "visibility": null,
            "width": null
          }
        },
        "82f3f3a3757e48cd81d6ad2edfcd2871": {
          "model_module": "@jupyter-widgets/controls",
          "model_name": "DescriptionStyleModel",
          "model_module_version": "1.5.0",
          "state": {
            "_model_module": "@jupyter-widgets/controls",
            "_model_module_version": "1.5.0",
            "_model_name": "DescriptionStyleModel",
            "_view_count": null,
            "_view_module": "@jupyter-widgets/base",
            "_view_module_version": "1.2.0",
            "_view_name": "StyleView",
            "description_width": ""
          }
        },
        "130fe1a8cd3f42aba6000f913c292152": {
          "model_module": "@jupyter-widgets/controls",
          "model_name": "HBoxModel",
          "model_module_version": "1.5.0",
          "state": {
            "_dom_classes": [],
            "_model_module": "@jupyter-widgets/controls",
            "_model_module_version": "1.5.0",
            "_model_name": "HBoxModel",
            "_view_count": null,
            "_view_module": "@jupyter-widgets/controls",
            "_view_module_version": "1.5.0",
            "_view_name": "HBoxView",
            "box_style": "",
            "children": [
              "IPY_MODEL_cfd98da316c44667aa3830ca78fc434b",
              "IPY_MODEL_a6ad2e3b6c314e1580069d5ce197b226",
              "IPY_MODEL_108a7919fa1942b3b147eaf69362f253"
            ],
            "layout": "IPY_MODEL_5fc520144486420eb2c7f392b53228a4"
          }
        },
        "cfd98da316c44667aa3830ca78fc434b": {
          "model_module": "@jupyter-widgets/controls",
          "model_name": "HTMLModel",
          "model_module_version": "1.5.0",
          "state": {
            "_dom_classes": [],
            "_model_module": "@jupyter-widgets/controls",
            "_model_module_version": "1.5.0",
            "_model_name": "HTMLModel",
            "_view_count": null,
            "_view_module": "@jupyter-widgets/controls",
            "_view_module_version": "1.5.0",
            "_view_name": "HTMLView",
            "description": "",
            "description_tooltip": null,
            "layout": "IPY_MODEL_9f94ec6617724514aab94ecb7d22c201",
            "placeholder": "​",
            "style": "IPY_MODEL_ca17aa1ee4954fb88e53f10be31bd437",
            "value": "merges.txt: 100%"
          }
        },
        "a6ad2e3b6c314e1580069d5ce197b226": {
          "model_module": "@jupyter-widgets/controls",
          "model_name": "FloatProgressModel",
          "model_module_version": "1.5.0",
          "state": {
            "_dom_classes": [],
            "_model_module": "@jupyter-widgets/controls",
            "_model_module_version": "1.5.0",
            "_model_name": "FloatProgressModel",
            "_view_count": null,
            "_view_module": "@jupyter-widgets/controls",
            "_view_module_version": "1.5.0",
            "_view_name": "ProgressView",
            "bar_style": "success",
            "description": "",
            "description_tooltip": null,
            "layout": "IPY_MODEL_42982a8ee286486bb3880013d4ad70b7",
            "max": 456318,
            "min": 0,
            "orientation": "horizontal",
            "style": "IPY_MODEL_e70f328633ca445598e1d77cb483904b",
            "value": 456318
          }
        },
        "108a7919fa1942b3b147eaf69362f253": {
          "model_module": "@jupyter-widgets/controls",
          "model_name": "HTMLModel",
          "model_module_version": "1.5.0",
          "state": {
            "_dom_classes": [],
            "_model_module": "@jupyter-widgets/controls",
            "_model_module_version": "1.5.0",
            "_model_name": "HTMLModel",
            "_view_count": null,
            "_view_module": "@jupyter-widgets/controls",
            "_view_module_version": "1.5.0",
            "_view_name": "HTMLView",
            "description": "",
            "description_tooltip": null,
            "layout": "IPY_MODEL_70448c8160244d20bac9d0d7b31f9c9a",
            "placeholder": "​",
            "style": "IPY_MODEL_167aee1301c84312a67c8b07baa4867b",
            "value": " 456k/456k [00:00&lt;00:00, 3.54MB/s]"
          }
        },
        "5fc520144486420eb2c7f392b53228a4": {
          "model_module": "@jupyter-widgets/base",
          "model_name": "LayoutModel",
          "model_module_version": "1.2.0",
          "state": {
            "_model_module": "@jupyter-widgets/base",
            "_model_module_version": "1.2.0",
            "_model_name": "LayoutModel",
            "_view_count": null,
            "_view_module": "@jupyter-widgets/base",
            "_view_module_version": "1.2.0",
            "_view_name": "LayoutView",
            "align_content": null,
            "align_items": null,
            "align_self": null,
            "border": null,
            "bottom": null,
            "display": null,
            "flex": null,
            "flex_flow": null,
            "grid_area": null,
            "grid_auto_columns": null,
            "grid_auto_flow": null,
            "grid_auto_rows": null,
            "grid_column": null,
            "grid_gap": null,
            "grid_row": null,
            "grid_template_areas": null,
            "grid_template_columns": null,
            "grid_template_rows": null,
            "height": null,
            "justify_content": null,
            "justify_items": null,
            "left": null,
            "margin": null,
            "max_height": null,
            "max_width": null,
            "min_height": null,
            "min_width": null,
            "object_fit": null,
            "object_position": null,
            "order": null,
            "overflow": null,
            "overflow_x": null,
            "overflow_y": null,
            "padding": null,
            "right": null,
            "top": null,
            "visibility": null,
            "width": null
          }
        },
        "9f94ec6617724514aab94ecb7d22c201": {
          "model_module": "@jupyter-widgets/base",
          "model_name": "LayoutModel",
          "model_module_version": "1.2.0",
          "state": {
            "_model_module": "@jupyter-widgets/base",
            "_model_module_version": "1.2.0",
            "_model_name": "LayoutModel",
            "_view_count": null,
            "_view_module": "@jupyter-widgets/base",
            "_view_module_version": "1.2.0",
            "_view_name": "LayoutView",
            "align_content": null,
            "align_items": null,
            "align_self": null,
            "border": null,
            "bottom": null,
            "display": null,
            "flex": null,
            "flex_flow": null,
            "grid_area": null,
            "grid_auto_columns": null,
            "grid_auto_flow": null,
            "grid_auto_rows": null,
            "grid_column": null,
            "grid_gap": null,
            "grid_row": null,
            "grid_template_areas": null,
            "grid_template_columns": null,
            "grid_template_rows": null,
            "height": null,
            "justify_content": null,
            "justify_items": null,
            "left": null,
            "margin": null,
            "max_height": null,
            "max_width": null,
            "min_height": null,
            "min_width": null,
            "object_fit": null,
            "object_position": null,
            "order": null,
            "overflow": null,
            "overflow_x": null,
            "overflow_y": null,
            "padding": null,
            "right": null,
            "top": null,
            "visibility": null,
            "width": null
          }
        },
        "ca17aa1ee4954fb88e53f10be31bd437": {
          "model_module": "@jupyter-widgets/controls",
          "model_name": "DescriptionStyleModel",
          "model_module_version": "1.5.0",
          "state": {
            "_model_module": "@jupyter-widgets/controls",
            "_model_module_version": "1.5.0",
            "_model_name": "DescriptionStyleModel",
            "_view_count": null,
            "_view_module": "@jupyter-widgets/base",
            "_view_module_version": "1.2.0",
            "_view_name": "StyleView",
            "description_width": ""
          }
        },
        "42982a8ee286486bb3880013d4ad70b7": {
          "model_module": "@jupyter-widgets/base",
          "model_name": "LayoutModel",
          "model_module_version": "1.2.0",
          "state": {
            "_model_module": "@jupyter-widgets/base",
            "_model_module_version": "1.2.0",
            "_model_name": "LayoutModel",
            "_view_count": null,
            "_view_module": "@jupyter-widgets/base",
            "_view_module_version": "1.2.0",
            "_view_name": "LayoutView",
            "align_content": null,
            "align_items": null,
            "align_self": null,
            "border": null,
            "bottom": null,
            "display": null,
            "flex": null,
            "flex_flow": null,
            "grid_area": null,
            "grid_auto_columns": null,
            "grid_auto_flow": null,
            "grid_auto_rows": null,
            "grid_column": null,
            "grid_gap": null,
            "grid_row": null,
            "grid_template_areas": null,
            "grid_template_columns": null,
            "grid_template_rows": null,
            "height": null,
            "justify_content": null,
            "justify_items": null,
            "left": null,
            "margin": null,
            "max_height": null,
            "max_width": null,
            "min_height": null,
            "min_width": null,
            "object_fit": null,
            "object_position": null,
            "order": null,
            "overflow": null,
            "overflow_x": null,
            "overflow_y": null,
            "padding": null,
            "right": null,
            "top": null,
            "visibility": null,
            "width": null
          }
        },
        "e70f328633ca445598e1d77cb483904b": {
          "model_module": "@jupyter-widgets/controls",
          "model_name": "ProgressStyleModel",
          "model_module_version": "1.5.0",
          "state": {
            "_model_module": "@jupyter-widgets/controls",
            "_model_module_version": "1.5.0",
            "_model_name": "ProgressStyleModel",
            "_view_count": null,
            "_view_module": "@jupyter-widgets/base",
            "_view_module_version": "1.2.0",
            "_view_name": "StyleView",
            "bar_color": null,
            "description_width": ""
          }
        },
        "70448c8160244d20bac9d0d7b31f9c9a": {
          "model_module": "@jupyter-widgets/base",
          "model_name": "LayoutModel",
          "model_module_version": "1.2.0",
          "state": {
            "_model_module": "@jupyter-widgets/base",
            "_model_module_version": "1.2.0",
            "_model_name": "LayoutModel",
            "_view_count": null,
            "_view_module": "@jupyter-widgets/base",
            "_view_module_version": "1.2.0",
            "_view_name": "LayoutView",
            "align_content": null,
            "align_items": null,
            "align_self": null,
            "border": null,
            "bottom": null,
            "display": null,
            "flex": null,
            "flex_flow": null,
            "grid_area": null,
            "grid_auto_columns": null,
            "grid_auto_flow": null,
            "grid_auto_rows": null,
            "grid_column": null,
            "grid_gap": null,
            "grid_row": null,
            "grid_template_areas": null,
            "grid_template_columns": null,
            "grid_template_rows": null,
            "height": null,
            "justify_content": null,
            "justify_items": null,
            "left": null,
            "margin": null,
            "max_height": null,
            "max_width": null,
            "min_height": null,
            "min_width": null,
            "object_fit": null,
            "object_position": null,
            "order": null,
            "overflow": null,
            "overflow_x": null,
            "overflow_y": null,
            "padding": null,
            "right": null,
            "top": null,
            "visibility": null,
            "width": null
          }
        },
        "167aee1301c84312a67c8b07baa4867b": {
          "model_module": "@jupyter-widgets/controls",
          "model_name": "DescriptionStyleModel",
          "model_module_version": "1.5.0",
          "state": {
            "_model_module": "@jupyter-widgets/controls",
            "_model_module_version": "1.5.0",
            "_model_name": "DescriptionStyleModel",
            "_view_count": null,
            "_view_module": "@jupyter-widgets/base",
            "_view_module_version": "1.2.0",
            "_view_name": "StyleView",
            "description_width": ""
          }
        },
        "4f7c7264ba744cc2995cfd0dd9b05af2": {
          "model_module": "@jupyter-widgets/controls",
          "model_name": "HBoxModel",
          "model_module_version": "1.5.0",
          "state": {
            "_dom_classes": [],
            "_model_module": "@jupyter-widgets/controls",
            "_model_module_version": "1.5.0",
            "_model_name": "HBoxModel",
            "_view_count": null,
            "_view_module": "@jupyter-widgets/controls",
            "_view_module_version": "1.5.0",
            "_view_name": "HBoxView",
            "box_style": "",
            "children": [
              "IPY_MODEL_846b3bffe20e4c1b8b863d29925a8122",
              "IPY_MODEL_3ec096f5cb9f46b5b8c7174bfba5c8ba",
              "IPY_MODEL_2f618cf9e590475bba83d7b617124911"
            ],
            "layout": "IPY_MODEL_e60f2ab90c8744498e5333bcc1204261"
          }
        },
        "846b3bffe20e4c1b8b863d29925a8122": {
          "model_module": "@jupyter-widgets/controls",
          "model_name": "HTMLModel",
          "model_module_version": "1.5.0",
          "state": {
            "_dom_classes": [],
            "_model_module": "@jupyter-widgets/controls",
            "_model_module_version": "1.5.0",
            "_model_name": "HTMLModel",
            "_view_count": null,
            "_view_module": "@jupyter-widgets/controls",
            "_view_module_version": "1.5.0",
            "_view_name": "HTMLView",
            "description": "",
            "description_tooltip": null,
            "layout": "IPY_MODEL_0a3985704e78493786b833afffbe63b0",
            "placeholder": "​",
            "style": "IPY_MODEL_aa09e1bb9f3d4563af426d4ee9b72afd",
            "value": "tokenizer.json: 100%"
          }
        },
        "3ec096f5cb9f46b5b8c7174bfba5c8ba": {
          "model_module": "@jupyter-widgets/controls",
          "model_name": "FloatProgressModel",
          "model_module_version": "1.5.0",
          "state": {
            "_dom_classes": [],
            "_model_module": "@jupyter-widgets/controls",
            "_model_module_version": "1.5.0",
            "_model_name": "FloatProgressModel",
            "_view_count": null,
            "_view_module": "@jupyter-widgets/controls",
            "_view_module_version": "1.5.0",
            "_view_name": "ProgressView",
            "bar_style": "success",
            "description": "",
            "description_tooltip": null,
            "layout": "IPY_MODEL_5342ded74e494a61aeb094926de68f4c",
            "max": 1355863,
            "min": 0,
            "orientation": "horizontal",
            "style": "IPY_MODEL_3c19a360d7ba4d89b1c389ea20d8892c",
            "value": 1355863
          }
        },
        "2f618cf9e590475bba83d7b617124911": {
          "model_module": "@jupyter-widgets/controls",
          "model_name": "HTMLModel",
          "model_module_version": "1.5.0",
          "state": {
            "_dom_classes": [],
            "_model_module": "@jupyter-widgets/controls",
            "_model_module_version": "1.5.0",
            "_model_name": "HTMLModel",
            "_view_count": null,
            "_view_module": "@jupyter-widgets/controls",
            "_view_module_version": "1.5.0",
            "_view_name": "HTMLView",
            "description": "",
            "description_tooltip": null,
            "layout": "IPY_MODEL_f23d6b77cb6a42a1baab24252e0d0366",
            "placeholder": "​",
            "style": "IPY_MODEL_d4f2b03879fe42e581156f7f53307243",
            "value": " 1.36M/1.36M [00:00&lt;00:00, 6.82MB/s]"
          }
        },
        "e60f2ab90c8744498e5333bcc1204261": {
          "model_module": "@jupyter-widgets/base",
          "model_name": "LayoutModel",
          "model_module_version": "1.2.0",
          "state": {
            "_model_module": "@jupyter-widgets/base",
            "_model_module_version": "1.2.0",
            "_model_name": "LayoutModel",
            "_view_count": null,
            "_view_module": "@jupyter-widgets/base",
            "_view_module_version": "1.2.0",
            "_view_name": "LayoutView",
            "align_content": null,
            "align_items": null,
            "align_self": null,
            "border": null,
            "bottom": null,
            "display": null,
            "flex": null,
            "flex_flow": null,
            "grid_area": null,
            "grid_auto_columns": null,
            "grid_auto_flow": null,
            "grid_auto_rows": null,
            "grid_column": null,
            "grid_gap": null,
            "grid_row": null,
            "grid_template_areas": null,
            "grid_template_columns": null,
            "grid_template_rows": null,
            "height": null,
            "justify_content": null,
            "justify_items": null,
            "left": null,
            "margin": null,
            "max_height": null,
            "max_width": null,
            "min_height": null,
            "min_width": null,
            "object_fit": null,
            "object_position": null,
            "order": null,
            "overflow": null,
            "overflow_x": null,
            "overflow_y": null,
            "padding": null,
            "right": null,
            "top": null,
            "visibility": null,
            "width": null
          }
        },
        "0a3985704e78493786b833afffbe63b0": {
          "model_module": "@jupyter-widgets/base",
          "model_name": "LayoutModel",
          "model_module_version": "1.2.0",
          "state": {
            "_model_module": "@jupyter-widgets/base",
            "_model_module_version": "1.2.0",
            "_model_name": "LayoutModel",
            "_view_count": null,
            "_view_module": "@jupyter-widgets/base",
            "_view_module_version": "1.2.0",
            "_view_name": "LayoutView",
            "align_content": null,
            "align_items": null,
            "align_self": null,
            "border": null,
            "bottom": null,
            "display": null,
            "flex": null,
            "flex_flow": null,
            "grid_area": null,
            "grid_auto_columns": null,
            "grid_auto_flow": null,
            "grid_auto_rows": null,
            "grid_column": null,
            "grid_gap": null,
            "grid_row": null,
            "grid_template_areas": null,
            "grid_template_columns": null,
            "grid_template_rows": null,
            "height": null,
            "justify_content": null,
            "justify_items": null,
            "left": null,
            "margin": null,
            "max_height": null,
            "max_width": null,
            "min_height": null,
            "min_width": null,
            "object_fit": null,
            "object_position": null,
            "order": null,
            "overflow": null,
            "overflow_x": null,
            "overflow_y": null,
            "padding": null,
            "right": null,
            "top": null,
            "visibility": null,
            "width": null
          }
        },
        "aa09e1bb9f3d4563af426d4ee9b72afd": {
          "model_module": "@jupyter-widgets/controls",
          "model_name": "DescriptionStyleModel",
          "model_module_version": "1.5.0",
          "state": {
            "_model_module": "@jupyter-widgets/controls",
            "_model_module_version": "1.5.0",
            "_model_name": "DescriptionStyleModel",
            "_view_count": null,
            "_view_module": "@jupyter-widgets/base",
            "_view_module_version": "1.2.0",
            "_view_name": "StyleView",
            "description_width": ""
          }
        },
        "5342ded74e494a61aeb094926de68f4c": {
          "model_module": "@jupyter-widgets/base",
          "model_name": "LayoutModel",
          "model_module_version": "1.2.0",
          "state": {
            "_model_module": "@jupyter-widgets/base",
            "_model_module_version": "1.2.0",
            "_model_name": "LayoutModel",
            "_view_count": null,
            "_view_module": "@jupyter-widgets/base",
            "_view_module_version": "1.2.0",
            "_view_name": "LayoutView",
            "align_content": null,
            "align_items": null,
            "align_self": null,
            "border": null,
            "bottom": null,
            "display": null,
            "flex": null,
            "flex_flow": null,
            "grid_area": null,
            "grid_auto_columns": null,
            "grid_auto_flow": null,
            "grid_auto_rows": null,
            "grid_column": null,
            "grid_gap": null,
            "grid_row": null,
            "grid_template_areas": null,
            "grid_template_columns": null,
            "grid_template_rows": null,
            "height": null,
            "justify_content": null,
            "justify_items": null,
            "left": null,
            "margin": null,
            "max_height": null,
            "max_width": null,
            "min_height": null,
            "min_width": null,
            "object_fit": null,
            "object_position": null,
            "order": null,
            "overflow": null,
            "overflow_x": null,
            "overflow_y": null,
            "padding": null,
            "right": null,
            "top": null,
            "visibility": null,
            "width": null
          }
        },
        "3c19a360d7ba4d89b1c389ea20d8892c": {
          "model_module": "@jupyter-widgets/controls",
          "model_name": "ProgressStyleModel",
          "model_module_version": "1.5.0",
          "state": {
            "_model_module": "@jupyter-widgets/controls",
            "_model_module_version": "1.5.0",
            "_model_name": "ProgressStyleModel",
            "_view_count": null,
            "_view_module": "@jupyter-widgets/base",
            "_view_module_version": "1.2.0",
            "_view_name": "StyleView",
            "bar_color": null,
            "description_width": ""
          }
        },
        "f23d6b77cb6a42a1baab24252e0d0366": {
          "model_module": "@jupyter-widgets/base",
          "model_name": "LayoutModel",
          "model_module_version": "1.2.0",
          "state": {
            "_model_module": "@jupyter-widgets/base",
            "_model_module_version": "1.2.0",
            "_model_name": "LayoutModel",
            "_view_count": null,
            "_view_module": "@jupyter-widgets/base",
            "_view_module_version": "1.2.0",
            "_view_name": "LayoutView",
            "align_content": null,
            "align_items": null,
            "align_self": null,
            "border": null,
            "bottom": null,
            "display": null,
            "flex": null,
            "flex_flow": null,
            "grid_area": null,
            "grid_auto_columns": null,
            "grid_auto_flow": null,
            "grid_auto_rows": null,
            "grid_column": null,
            "grid_gap": null,
            "grid_row": null,
            "grid_template_areas": null,
            "grid_template_columns": null,
            "grid_template_rows": null,
            "height": null,
            "justify_content": null,
            "justify_items": null,
            "left": null,
            "margin": null,
            "max_height": null,
            "max_width": null,
            "min_height": null,
            "min_width": null,
            "object_fit": null,
            "object_position": null,
            "order": null,
            "overflow": null,
            "overflow_x": null,
            "overflow_y": null,
            "padding": null,
            "right": null,
            "top": null,
            "visibility": null,
            "width": null
          }
        },
        "d4f2b03879fe42e581156f7f53307243": {
          "model_module": "@jupyter-widgets/controls",
          "model_name": "DescriptionStyleModel",
          "model_module_version": "1.5.0",
          "state": {
            "_model_module": "@jupyter-widgets/controls",
            "_model_module_version": "1.5.0",
            "_model_name": "DescriptionStyleModel",
            "_view_count": null,
            "_view_module": "@jupyter-widgets/base",
            "_view_module_version": "1.2.0",
            "_view_name": "StyleView",
            "description_width": ""
          }
        },
        "2cc6ae5e64d149f79a5421c35b069e6f": {
          "model_module": "@jupyter-widgets/controls",
          "model_name": "HBoxModel",
          "model_module_version": "1.5.0",
          "state": {
            "_dom_classes": [],
            "_model_module": "@jupyter-widgets/controls",
            "_model_module_version": "1.5.0",
            "_model_name": "HBoxModel",
            "_view_count": null,
            "_view_module": "@jupyter-widgets/controls",
            "_view_module_version": "1.5.0",
            "_view_name": "HBoxView",
            "box_style": "",
            "children": [
              "IPY_MODEL_b80ecb1ba0f842aca2f1057aaa830246",
              "IPY_MODEL_a7b547a0faad41008eaeb6b4d8f62aca",
              "IPY_MODEL_27eaeb28a8cc4e62af33abbad6ba9f8c"
            ],
            "layout": "IPY_MODEL_135abba3bc2a42a89e7a4da2862bcf45"
          }
        },
        "b80ecb1ba0f842aca2f1057aaa830246": {
          "model_module": "@jupyter-widgets/controls",
          "model_name": "HTMLModel",
          "model_module_version": "1.5.0",
          "state": {
            "_dom_classes": [],
            "_model_module": "@jupyter-widgets/controls",
            "_model_module_version": "1.5.0",
            "_model_name": "HTMLModel",
            "_view_count": null,
            "_view_module": "@jupyter-widgets/controls",
            "_view_module_version": "1.5.0",
            "_view_name": "HTMLView",
            "description": "",
            "description_tooltip": null,
            "layout": "IPY_MODEL_4168a9f4b9ed42c68882b36da9f18587",
            "placeholder": "​",
            "style": "IPY_MODEL_50f472fb5ddd4b5188a6c265b820839f",
            "value": "model.safetensors: 100%"
          }
        },
        "a7b547a0faad41008eaeb6b4d8f62aca": {
          "model_module": "@jupyter-widgets/controls",
          "model_name": "FloatProgressModel",
          "model_module_version": "1.5.0",
          "state": {
            "_dom_classes": [],
            "_model_module": "@jupyter-widgets/controls",
            "_model_module_version": "1.5.0",
            "_model_name": "FloatProgressModel",
            "_view_count": null,
            "_view_module": "@jupyter-widgets/controls",
            "_view_module_version": "1.5.0",
            "_view_name": "ProgressView",
            "bar_style": "success",
            "description": "",
            "description_tooltip": null,
            "layout": "IPY_MODEL_23a5ad6ab98b4b2fa92188375bad3593",
            "max": 1421700479,
            "min": 0,
            "orientation": "horizontal",
            "style": "IPY_MODEL_94211dfda9c240debe09cc776ff39bd2",
            "value": 1421700479
          }
        },
        "27eaeb28a8cc4e62af33abbad6ba9f8c": {
          "model_module": "@jupyter-widgets/controls",
          "model_name": "HTMLModel",
          "model_module_version": "1.5.0",
          "state": {
            "_dom_classes": [],
            "_model_module": "@jupyter-widgets/controls",
            "_model_module_version": "1.5.0",
            "_model_name": "HTMLModel",
            "_view_count": null,
            "_view_module": "@jupyter-widgets/controls",
            "_view_module_version": "1.5.0",
            "_view_name": "HTMLView",
            "description": "",
            "description_tooltip": null,
            "layout": "IPY_MODEL_c7899867c3354023b81e0cedd8ea5673",
            "placeholder": "​",
            "style": "IPY_MODEL_00f69aafb3434bf3a4dd607a41e6e2a0",
            "value": " 1.42G/1.42G [00:26&lt;00:00, 65.5MB/s]"
          }
        },
        "135abba3bc2a42a89e7a4da2862bcf45": {
          "model_module": "@jupyter-widgets/base",
          "model_name": "LayoutModel",
          "model_module_version": "1.2.0",
          "state": {
            "_model_module": "@jupyter-widgets/base",
            "_model_module_version": "1.2.0",
            "_model_name": "LayoutModel",
            "_view_count": null,
            "_view_module": "@jupyter-widgets/base",
            "_view_module_version": "1.2.0",
            "_view_name": "LayoutView",
            "align_content": null,
            "align_items": null,
            "align_self": null,
            "border": null,
            "bottom": null,
            "display": null,
            "flex": null,
            "flex_flow": null,
            "grid_area": null,
            "grid_auto_columns": null,
            "grid_auto_flow": null,
            "grid_auto_rows": null,
            "grid_column": null,
            "grid_gap": null,
            "grid_row": null,
            "grid_template_areas": null,
            "grid_template_columns": null,
            "grid_template_rows": null,
            "height": null,
            "justify_content": null,
            "justify_items": null,
            "left": null,
            "margin": null,
            "max_height": null,
            "max_width": null,
            "min_height": null,
            "min_width": null,
            "object_fit": null,
            "object_position": null,
            "order": null,
            "overflow": null,
            "overflow_x": null,
            "overflow_y": null,
            "padding": null,
            "right": null,
            "top": null,
            "visibility": null,
            "width": null
          }
        },
        "4168a9f4b9ed42c68882b36da9f18587": {
          "model_module": "@jupyter-widgets/base",
          "model_name": "LayoutModel",
          "model_module_version": "1.2.0",
          "state": {
            "_model_module": "@jupyter-widgets/base",
            "_model_module_version": "1.2.0",
            "_model_name": "LayoutModel",
            "_view_count": null,
            "_view_module": "@jupyter-widgets/base",
            "_view_module_version": "1.2.0",
            "_view_name": "LayoutView",
            "align_content": null,
            "align_items": null,
            "align_self": null,
            "border": null,
            "bottom": null,
            "display": null,
            "flex": null,
            "flex_flow": null,
            "grid_area": null,
            "grid_auto_columns": null,
            "grid_auto_flow": null,
            "grid_auto_rows": null,
            "grid_column": null,
            "grid_gap": null,
            "grid_row": null,
            "grid_template_areas": null,
            "grid_template_columns": null,
            "grid_template_rows": null,
            "height": null,
            "justify_content": null,
            "justify_items": null,
            "left": null,
            "margin": null,
            "max_height": null,
            "max_width": null,
            "min_height": null,
            "min_width": null,
            "object_fit": null,
            "object_position": null,
            "order": null,
            "overflow": null,
            "overflow_x": null,
            "overflow_y": null,
            "padding": null,
            "right": null,
            "top": null,
            "visibility": null,
            "width": null
          }
        },
        "50f472fb5ddd4b5188a6c265b820839f": {
          "model_module": "@jupyter-widgets/controls",
          "model_name": "DescriptionStyleModel",
          "model_module_version": "1.5.0",
          "state": {
            "_model_module": "@jupyter-widgets/controls",
            "_model_module_version": "1.5.0",
            "_model_name": "DescriptionStyleModel",
            "_view_count": null,
            "_view_module": "@jupyter-widgets/base",
            "_view_module_version": "1.2.0",
            "_view_name": "StyleView",
            "description_width": ""
          }
        },
        "23a5ad6ab98b4b2fa92188375bad3593": {
          "model_module": "@jupyter-widgets/base",
          "model_name": "LayoutModel",
          "model_module_version": "1.2.0",
          "state": {
            "_model_module": "@jupyter-widgets/base",
            "_model_module_version": "1.2.0",
            "_model_name": "LayoutModel",
            "_view_count": null,
            "_view_module": "@jupyter-widgets/base",
            "_view_module_version": "1.2.0",
            "_view_name": "LayoutView",
            "align_content": null,
            "align_items": null,
            "align_self": null,
            "border": null,
            "bottom": null,
            "display": null,
            "flex": null,
            "flex_flow": null,
            "grid_area": null,
            "grid_auto_columns": null,
            "grid_auto_flow": null,
            "grid_auto_rows": null,
            "grid_column": null,
            "grid_gap": null,
            "grid_row": null,
            "grid_template_areas": null,
            "grid_template_columns": null,
            "grid_template_rows": null,
            "height": null,
            "justify_content": null,
            "justify_items": null,
            "left": null,
            "margin": null,
            "max_height": null,
            "max_width": null,
            "min_height": null,
            "min_width": null,
            "object_fit": null,
            "object_position": null,
            "order": null,
            "overflow": null,
            "overflow_x": null,
            "overflow_y": null,
            "padding": null,
            "right": null,
            "top": null,
            "visibility": null,
            "width": null
          }
        },
        "94211dfda9c240debe09cc776ff39bd2": {
          "model_module": "@jupyter-widgets/controls",
          "model_name": "ProgressStyleModel",
          "model_module_version": "1.5.0",
          "state": {
            "_model_module": "@jupyter-widgets/controls",
            "_model_module_version": "1.5.0",
            "_model_name": "ProgressStyleModel",
            "_view_count": null,
            "_view_module": "@jupyter-widgets/base",
            "_view_module_version": "1.2.0",
            "_view_name": "StyleView",
            "bar_color": null,
            "description_width": ""
          }
        },
        "c7899867c3354023b81e0cedd8ea5673": {
          "model_module": "@jupyter-widgets/base",
          "model_name": "LayoutModel",
          "model_module_version": "1.2.0",
          "state": {
            "_model_module": "@jupyter-widgets/base",
            "_model_module_version": "1.2.0",
            "_model_name": "LayoutModel",
            "_view_count": null,
            "_view_module": "@jupyter-widgets/base",
            "_view_module_version": "1.2.0",
            "_view_name": "LayoutView",
            "align_content": null,
            "align_items": null,
            "align_self": null,
            "border": null,
            "bottom": null,
            "display": null,
            "flex": null,
            "flex_flow": null,
            "grid_area": null,
            "grid_auto_columns": null,
            "grid_auto_flow": null,
            "grid_auto_rows": null,
            "grid_column": null,
            "grid_gap": null,
            "grid_row": null,
            "grid_template_areas": null,
            "grid_template_columns": null,
            "grid_template_rows": null,
            "height": null,
            "justify_content": null,
            "justify_items": null,
            "left": null,
            "margin": null,
            "max_height": null,
            "max_width": null,
            "min_height": null,
            "min_width": null,
            "object_fit": null,
            "object_position": null,
            "order": null,
            "overflow": null,
            "overflow_x": null,
            "overflow_y": null,
            "padding": null,
            "right": null,
            "top": null,
            "visibility": null,
            "width": null
          }
        },
        "00f69aafb3434bf3a4dd607a41e6e2a0": {
          "model_module": "@jupyter-widgets/controls",
          "model_name": "DescriptionStyleModel",
          "model_module_version": "1.5.0",
          "state": {
            "_model_module": "@jupyter-widgets/controls",
            "_model_module_version": "1.5.0",
            "_model_name": "DescriptionStyleModel",
            "_view_count": null,
            "_view_module": "@jupyter-widgets/base",
            "_view_module_version": "1.2.0",
            "_view_name": "StyleView",
            "description_width": ""
          }
        }
      }
    }
  },
  "nbformat": 4,
  "nbformat_minor": 0
}